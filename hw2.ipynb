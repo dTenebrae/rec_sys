{
 "cells": [
  {
   "cell_type": "code",
   "execution_count": 1,
   "id": "e86ff844",
   "metadata": {},
   "outputs": [],
   "source": [
    "import numpy as np\n",
    "import pandas as pd\n",
    "\n",
    "from scipy.sparse import csr_matrix, coo_matrix\n",
    "\n",
    "from implicit.nearest_neighbours import (\n",
    "    ItemItemRecommender, \n",
    "    CosineRecommender, \n",
    "    TFIDFRecommender, \n",
    "    BM25Recommender\n",
    ")\n",
    "import warnings\n",
    "warnings.simplefilter('ignore')"
   ]
  },
  {
   "cell_type": "code",
   "execution_count": 2,
   "id": "af2a3d63",
   "metadata": {},
   "outputs": [],
   "source": [
    "def precision(recommended_list, bought_list):\n",
    "    bought_list = np.array(bought_list)\n",
    "    recommended_list = np.array(recommended_list)\n",
    "    flags = np.isin(bought_list, recommended_list)\n",
    "    return flags.sum() / len(recommended_list)\n",
    "\n",
    "def precision_at_k(recommended_list, bought_list, k=5):\n",
    "    return precision(recommended_list[:k], bought_list)"
   ]
  },
  {
   "cell_type": "markdown",
   "id": "888bef93",
   "metadata": {},
   "source": [
    "### Задание 1. Weighted Random Recommendation\n",
    "\n",
    "Напишите код для случайных рекоммендаций, в которых вероятность рекомендовать товар прямо пропорциональна логарифму продаж\n",
    "- Можно сэмплировать товары случайно, но пропорционально какому-либо весу\n",
    "- Например, прямопропорционально популярности. Вес = log(sales_sum товара)"
   ]
  },
  {
   "cell_type": "code",
   "execution_count": 3,
   "id": "e3abfc00",
   "metadata": {},
   "outputs": [],
   "source": [
    "def random_recommendation(items, n=5):\n",
    "    \"\"\"Случайные рекомендации\"\"\"\n",
    "    \n",
    "    items = np.array(items)\n",
    "    recs = np.random.choice(items, size=n, replace=False)\n",
    "    \n",
    "    return recs.tolist()"
   ]
  },
  {
   "cell_type": "code",
   "execution_count": 4,
   "id": "fe27025c",
   "metadata": {},
   "outputs": [],
   "source": [
    "def popularity_recommendation(data, n=5):\n",
    "    \"\"\"Топ-n популярных товаров\"\"\"\n",
    "    \n",
    "    popular = data.groupby('item_id')['sales_value'].sum().reset_index()\n",
    "    popular.sort_values('sales_value', ascending=False, inplace=True)\n",
    "    \n",
    "    recs = popular.head(n).item_id\n",
    "    \n",
    "    return recs.tolist()"
   ]
  },
  {
   "cell_type": "code",
   "execution_count": 5,
   "id": "ecc37cc4",
   "metadata": {},
   "outputs": [],
   "source": [
    "def weighted_random_recommendation(items_weights, n=5):\n",
    "    \"\"\"Взвешенные случайные рекомендации\n",
    "    \n",
    "    Input\n",
    "    -----\n",
    "    items_weights: pd.DataFrame\n",
    "        Датафрейм со столбцами item_id, weights. Сумма weight по всем товарам = 1\n",
    "    \"\"\"\n",
    "    \n",
    "    recs = items_weights.sample(n=n, replace=False, weights='weights')['item_id'].to_list()\n",
    "\n",
    "    return recs"
   ]
  },
  {
   "cell_type": "code",
   "execution_count": 6,
   "id": "b2d9a9ac",
   "metadata": {},
   "outputs": [],
   "source": [
    "df = pd.read_csv('./data/retail_train.csv')"
   ]
  },
  {
   "cell_type": "markdown",
   "id": "6e47df4b",
   "metadata": {},
   "source": [
    "### Разобьем выборку на тренировочную и тестовую"
   ]
  },
  {
   "cell_type": "code",
   "execution_count": 7,
   "id": "0b9e208b",
   "metadata": {},
   "outputs": [],
   "source": [
    "test_size_weeks = 3\n",
    "\n",
    "data_train = df[df['week_no'] < df['week_no'].max() - test_size_weeks]\n",
    "data_test = df[df['week_no'] >= df['week_no'].max() - test_size_weeks]"
   ]
  },
  {
   "cell_type": "markdown",
   "id": "5dee3078",
   "metadata": {},
   "source": [
    "### Подготовим датафрейм с id юзера и его реальными покупками. Сюда будем записывать рекомендации"
   ]
  },
  {
   "cell_type": "code",
   "execution_count": 8,
   "id": "fa5f927a",
   "metadata": {},
   "outputs": [],
   "source": [
    "result = data_test.groupby('user_id')['item_id'].unique().reset_index()\n",
    "result.columns=['user_id', 'actual']"
   ]
  },
  {
   "cell_type": "markdown",
   "id": "94118682",
   "metadata": {},
   "source": [
    "### Определим веса"
   ]
  },
  {
   "cell_type": "code",
   "execution_count": 9,
   "id": "0d459706",
   "metadata": {},
   "outputs": [],
   "source": [
    "popularity = df.groupby('item_id')['sales_value'].sum().reset_index()"
   ]
  },
  {
   "cell_type": "code",
   "execution_count": 10,
   "id": "f1d83a88",
   "metadata": {},
   "outputs": [],
   "source": [
    "# Находим логарифм от суммы продаж товара и делим на сумму логарифмов всех сумм продаж\n",
    "popularity['weights'] = (popularity['sales_value'].apply(np.log) / \n",
    "                         popularity['sales_value'].apply(np.log).replace([-np.inf], 0).sum())\n",
    "popularity[popularity['weights'] < 0] = 0\n",
    "items_weights = popularity[['item_id', 'weights']]"
   ]
  },
  {
   "cell_type": "markdown",
   "id": "c80f4afa",
   "metadata": {},
   "source": [
    "### Создадим список топ-5000 покупаемых товаров, и пометим все товары, которые в него не входят, спец-id"
   ]
  },
  {
   "cell_type": "code",
   "execution_count": 11,
   "id": "8aa7ac9d",
   "metadata": {},
   "outputs": [],
   "source": [
    "popularity = df.groupby('item_id')['quantity'].sum().reset_index().rename(columns={'quantity': 'n_sold'})\n",
    "top_5000 = popularity.sort_values('n_sold', ascending=False).head(5000).item_id.tolist()\n",
    "data_train.loc[ ~ data_train['item_id'].isin(top_5000), 'item_id'] = 6666"
   ]
  },
  {
   "cell_type": "markdown",
   "id": "4906a40f",
   "metadata": {},
   "source": [
    "### Создадим user-item матрицу"
   ]
  },
  {
   "cell_type": "code",
   "execution_count": 12,
   "id": "771165db",
   "metadata": {},
   "outputs": [],
   "source": [
    "user_item_matrix = pd.pivot_table(data_train, \n",
    "                                  index='user_id', columns='item_id', \n",
    "                                  values='quantity',\n",
    "                                  aggfunc='count', \n",
    "                                  fill_value=0\n",
    "                                 )\n",
    "\n",
    "user_item_matrix[user_item_matrix > 0] = 1 # так как в итоге хотим предсказать \n",
    "\n",
    "user_item_matrix = user_item_matrix.astype(float) # необходимый тип матрицы для implicit\n",
    "\n",
    "# переведем в формат sparse matrix\n",
    "sparse_user_item = csr_matrix(user_item_matrix).tocsr()"
   ]
  },
  {
   "cell_type": "markdown",
   "id": "117fadbb",
   "metadata": {},
   "source": [
    "### Для поиска юзеров и итемов по id определим словари"
   ]
  },
  {
   "cell_type": "code",
   "execution_count": 13,
   "id": "7a5ddb35",
   "metadata": {},
   "outputs": [],
   "source": [
    "userids = user_item_matrix.index.values\n",
    "itemids = user_item_matrix.columns.values\n",
    "\n",
    "matrix_userids = np.arange(len(userids))\n",
    "matrix_itemids = np.arange(len(itemids))\n",
    "\n",
    "id_to_itemid = dict(zip(matrix_itemids, itemids))\n",
    "id_to_userid = dict(zip(matrix_userids, userids))\n",
    "\n",
    "itemid_to_id = dict(zip(itemids, matrix_itemids))\n",
    "userid_to_id = dict(zip(userids, matrix_userids))"
   ]
  },
  {
   "cell_type": "markdown",
   "id": "c08e5b44",
   "metadata": {},
   "source": [
    "### Получим рекомендации случайным образом, взвешенным случайным и на основе самых популярных товаров"
   ]
  },
  {
   "cell_type": "code",
   "execution_count": 14,
   "id": "172dcd9d",
   "metadata": {},
   "outputs": [],
   "source": [
    "items = data_train.item_id.unique()\n",
    "result['rnd_rec'] = result['user_id'].apply(lambda x: random_recommendation(items, n=5))"
   ]
  },
  {
   "cell_type": "code",
   "execution_count": 15,
   "id": "57000646",
   "metadata": {},
   "outputs": [],
   "source": [
    "result['weighted_rnd_rec'] = result['user_id'].apply(lambda x: \n",
    "                                                     weighted_random_recommendation(items_weights, \n",
    "                                                                                    n=5))"
   ]
  },
  {
   "cell_type": "code",
   "execution_count": 16,
   "id": "ae214b1a",
   "metadata": {},
   "outputs": [],
   "source": [
    "popular_recs = popularity_recommendation(data_train, n=5)\n",
    "result['pop_rec'] = result['user_id'].apply(lambda x: popular_recs)"
   ]
  },
  {
   "cell_type": "markdown",
   "id": "55b92895",
   "metadata": {},
   "source": [
    "### Создадим функцию для обучения моделей и рекомендаций"
   ]
  },
  {
   "cell_type": "code",
   "execution_count": 17,
   "id": "2971a43b",
   "metadata": {},
   "outputs": [],
   "source": [
    "model_list = [BM25Recommender, ItemItemRecommender, CosineRecommender, TFIDFRecommender]\n",
    "column_list = ['BM25', 'itemitem', 'cosine', 'tfidf']"
   ]
  },
  {
   "cell_type": "code",
   "execution_count": 18,
   "id": "a8de27f8",
   "metadata": {},
   "outputs": [],
   "source": [
    "def recommend_fn(df, \n",
    "                model_name,\n",
    "                user_item_matrix,\n",
    "                id_to_itemid, \n",
    "                userid_to_id, \n",
    "                col_name,\n",
    "                filter_items=None,\n",
    "                k=5, \n",
    "                n_threads=4):\n",
    "    \n",
    "    model = model_name(K=k, num_threads=n_threads)\n",
    "    model.fit(csr_matrix(user_item_matrix).T.tocsr(), show_progress=False)\n",
    "    df[col_name] = df['user_id'].apply(lambda user_id: [\n",
    "                                       id_to_itemid[rec[0]] for rec in model.recommend(userid=userid_to_id[user_id], \n",
    "                                       user_items=sparse_user_item, \n",
    "                                       N=5, \n",
    "                                       filter_already_liked_items=False, \n",
    "                                       filter_items=filter_items, \n",
    "                                       recalculate_user=True)\n",
    "                                                        ])"
   ]
  },
  {
   "cell_type": "code",
   "execution_count": 19,
   "id": "ab912d2e",
   "metadata": {},
   "outputs": [],
   "source": [
    "for mod, col in zip(model_list, column_list):\n",
    "    recommend_fn(result, mod, user_item_matrix, id_to_itemid, userid_to_id, col)"
   ]
  },
  {
   "cell_type": "markdown",
   "id": "41f8dfb6",
   "metadata": {},
   "source": [
    "### Трюк с K=1 и игнором помеченных товаров"
   ]
  },
  {
   "cell_type": "code",
   "execution_count": 20,
   "id": "a963ee97",
   "metadata": {},
   "outputs": [],
   "source": [
    "recommend_fn(result, \n",
    "             ItemItemRecommender, \n",
    "             user_item_matrix, \n",
    "             id_to_itemid, \n",
    "             userid_to_id, \n",
    "             'mod_itemitem', \n",
    "             [itemid_to_id[6666]], \n",
    "             k=1)"
   ]
  },
  {
   "cell_type": "markdown",
   "id": "e461cea8",
   "metadata": {},
   "source": [
    "### Метрики"
   ]
  },
  {
   "cell_type": "code",
   "execution_count": 21,
   "id": "5497fc73",
   "metadata": {},
   "outputs": [
    {
     "name": "stdout",
     "output_type": "stream",
     "text": [
      "0.0063:rnd_rec\n",
      "0.0014:weighted_rnd_rec\n",
      "0.0856:pop_rec\n",
      "0.1255:BM25\n",
      "0.1367:itemitem\n",
      "0.1333:cosine\n",
      "0.1391:tfidf\n",
      "0.2199:mod_itemitem\n"
     ]
    }
   ],
   "source": [
    "for name_col in result.columns[2:]:\n",
    "    print(f\"{round(result.apply(lambda row: precision_at_k(row[name_col], row['actual']), axis=1).mean(),4)}:{name_col}\")"
   ]
  },
  {
   "cell_type": "markdown",
   "id": "7a255346",
   "metadata": {},
   "source": [
    "___"
   ]
  },
  {
   "cell_type": "markdown",
   "id": "3ebe7df7",
   "metadata": {},
   "source": [
    "## Задание 2. Улучшение бейзлайнов и ItemItem\n",
    "\n",
    "- Попробуйте улучшить бейзлайны, считая случайный на топ-5000 товаров"
   ]
  },
  {
   "cell_type": "code",
   "execution_count": 25,
   "id": "d7c2bd2f",
   "metadata": {},
   "outputs": [],
   "source": [
    "items = top_5000\n",
    "result['rnd_rec_5000'] = result['user_id'].apply(lambda x: random_recommendation(items, n=5))"
   ]
  },
  {
   "cell_type": "markdown",
   "id": "32615cee",
   "metadata": {},
   "source": [
    "- Попробуйте улучшить разные варианты ItemItemRecommender, выбирая число соседей $K$."
   ]
  },
  {
   "cell_type": "code",
   "execution_count": 22,
   "id": "70703618",
   "metadata": {},
   "outputs": [],
   "source": [
    "for i in range(1, 11):\n",
    "    recommend_fn(result, ItemItemRecommender, user_item_matrix, id_to_itemid, userid_to_id, f'item_K{i}', k=i)    "
   ]
  },
  {
   "cell_type": "code",
   "execution_count": 26,
   "id": "447a0fb4",
   "metadata": {},
   "outputs": [
    {
     "name": "stdout",
     "output_type": "stream",
     "text": [
      "0.0063:rnd_rec\n",
      "0.0014:weighted_rnd_rec\n",
      "0.0856:pop_rec\n",
      "0.1255:BM25\n",
      "0.1367:itemitem\n",
      "0.1333:cosine\n",
      "0.1391:tfidf\n",
      "0.2199:mod_itemitem\n",
      "0.1923:item_K1\n",
      "0.192:item_K2\n",
      "0.1862:item_K3\n",
      "0.145:item_K4\n",
      "0.1367:item_K5\n",
      "0.142:item_K6\n",
      "0.1449:item_K7\n",
      "0.1471:item_K8\n",
      "0.1486:item_K9\n",
      "0.1507:item_K10\n",
      "0.006:rnd_rec_5000\n"
     ]
    }
   ],
   "source": [
    "for name_col in result.columns[2:]:\n",
    "    print(f\"{round(result.apply(lambda row: precision_at_k(row[name_col], row['actual']), axis=1).mean(),4)}:{name_col}\")"
   ]
  },
  {
   "cell_type": "code",
   "execution_count": null,
   "id": "72df472f",
   "metadata": {},
   "outputs": [],
   "source": []
  },
  {
   "cell_type": "code",
   "execution_count": null,
   "id": "2b35975e",
   "metadata": {},
   "outputs": [],
   "source": []
  },
  {
   "cell_type": "code",
   "execution_count": null,
   "id": "4b10d63a",
   "metadata": {},
   "outputs": [],
   "source": []
  },
  {
   "cell_type": "code",
   "execution_count": null,
   "id": "59f85504",
   "metadata": {},
   "outputs": [],
   "source": []
  },
  {
   "cell_type": "code",
   "execution_count": null,
   "id": "f555220e",
   "metadata": {},
   "outputs": [],
   "source": []
  }
 ],
 "metadata": {
  "kernelspec": {
   "display_name": "Python 3",
   "language": "python",
   "name": "python3"
  },
  "language_info": {
   "codemirror_mode": {
    "name": "ipython",
    "version": 3
   },
   "file_extension": ".py",
   "mimetype": "text/x-python",
   "name": "python",
   "nbconvert_exporter": "python",
   "pygments_lexer": "ipython3",
   "version": "3.9.5"
  },
  "varInspector": {
   "cols": {
    "lenName": 16,
    "lenType": 16,
    "lenVar": 40
   },
   "kernels_config": {
    "python": {
     "delete_cmd_postfix": "",
     "delete_cmd_prefix": "del ",
     "library": "var_list.py",
     "varRefreshCmd": "print(var_dic_list())"
    },
    "r": {
     "delete_cmd_postfix": ") ",
     "delete_cmd_prefix": "rm(",
     "library": "var_list.r",
     "varRefreshCmd": "cat(var_dic_list()) "
    }
   },
   "types_to_exclude": [
    "module",
    "function",
    "builtin_function_or_method",
    "instance",
    "_Feature"
   ],
   "window_display": false
  }
 },
 "nbformat": 4,
 "nbformat_minor": 5
}
