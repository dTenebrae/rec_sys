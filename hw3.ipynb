{
 "cells": [
  {
   "cell_type": "code",
   "execution_count": 1,
   "id": "1445a69a",
   "metadata": {},
   "outputs": [],
   "source": [
    "import numpy as np\n",
    "import pandas as pd\n",
    "from scipy.sparse import csr_matrix\n",
    "\n",
    "from implicit.als import AlternatingLeastSquares\n",
    "from implicit.nearest_neighbours import bm25_weight, tfidf_weight\n",
    "\n",
    "from metrics import precision_at_k\n",
    "import warnings\n",
    "warnings.simplefilter('ignore')"
   ]
  },
  {
   "cell_type": "code",
   "execution_count": 2,
   "id": "9d9bcabd",
   "metadata": {},
   "outputs": [],
   "source": [
    "def get_recommendations(user, model, N=5):\n",
    "    res = [id_to_itemid[rec[0]] for rec in \n",
    "                    model.recommend(userid=userid_to_id[user], \n",
    "                                    user_items=sparse_user_item,   # на вход user-item matrix\n",
    "                                    N=N, \n",
    "                                    filter_already_liked_items=False, \n",
    "                                    filter_items=None, \n",
    "                                    recalculate_user=True)]\n",
    "    return res"
   ]
  },
  {
   "cell_type": "code",
   "execution_count": 3,
   "id": "a1a1d669",
   "metadata": {},
   "outputs": [
    {
     "data": {
      "text/html": [
       "<div>\n",
       "<style scoped>\n",
       "    .dataframe tbody tr th:only-of-type {\n",
       "        vertical-align: middle;\n",
       "    }\n",
       "\n",
       "    .dataframe tbody tr th {\n",
       "        vertical-align: top;\n",
       "    }\n",
       "\n",
       "    .dataframe thead th {\n",
       "        text-align: right;\n",
       "    }\n",
       "</style>\n",
       "<table border=\"1\" class=\"dataframe\">\n",
       "  <thead>\n",
       "    <tr style=\"text-align: right;\">\n",
       "      <th></th>\n",
       "      <th>user_id</th>\n",
       "      <th>basket_id</th>\n",
       "      <th>day</th>\n",
       "      <th>item_id</th>\n",
       "      <th>quantity</th>\n",
       "      <th>sales_value</th>\n",
       "      <th>store_id</th>\n",
       "      <th>retail_disc</th>\n",
       "      <th>trans_time</th>\n",
       "      <th>week_no</th>\n",
       "      <th>coupon_disc</th>\n",
       "      <th>coupon_match_disc</th>\n",
       "    </tr>\n",
       "  </thead>\n",
       "  <tbody>\n",
       "    <tr>\n",
       "      <th>0</th>\n",
       "      <td>2375</td>\n",
       "      <td>26984851472</td>\n",
       "      <td>1</td>\n",
       "      <td>1004906</td>\n",
       "      <td>1</td>\n",
       "      <td>1.39</td>\n",
       "      <td>364</td>\n",
       "      <td>-0.60</td>\n",
       "      <td>1631</td>\n",
       "      <td>1</td>\n",
       "      <td>0.0</td>\n",
       "      <td>0.0</td>\n",
       "    </tr>\n",
       "    <tr>\n",
       "      <th>1</th>\n",
       "      <td>2375</td>\n",
       "      <td>26984851472</td>\n",
       "      <td>1</td>\n",
       "      <td>1033142</td>\n",
       "      <td>1</td>\n",
       "      <td>0.82</td>\n",
       "      <td>364</td>\n",
       "      <td>0.00</td>\n",
       "      <td>1631</td>\n",
       "      <td>1</td>\n",
       "      <td>0.0</td>\n",
       "      <td>0.0</td>\n",
       "    </tr>\n",
       "    <tr>\n",
       "      <th>2</th>\n",
       "      <td>2375</td>\n",
       "      <td>26984851472</td>\n",
       "      <td>1</td>\n",
       "      <td>1036325</td>\n",
       "      <td>1</td>\n",
       "      <td>0.99</td>\n",
       "      <td>364</td>\n",
       "      <td>-0.30</td>\n",
       "      <td>1631</td>\n",
       "      <td>1</td>\n",
       "      <td>0.0</td>\n",
       "      <td>0.0</td>\n",
       "    </tr>\n",
       "    <tr>\n",
       "      <th>3</th>\n",
       "      <td>2375</td>\n",
       "      <td>26984851472</td>\n",
       "      <td>1</td>\n",
       "      <td>1082185</td>\n",
       "      <td>1</td>\n",
       "      <td>1.21</td>\n",
       "      <td>364</td>\n",
       "      <td>0.00</td>\n",
       "      <td>1631</td>\n",
       "      <td>1</td>\n",
       "      <td>0.0</td>\n",
       "      <td>0.0</td>\n",
       "    </tr>\n",
       "    <tr>\n",
       "      <th>4</th>\n",
       "      <td>2375</td>\n",
       "      <td>26984851472</td>\n",
       "      <td>1</td>\n",
       "      <td>8160430</td>\n",
       "      <td>1</td>\n",
       "      <td>1.50</td>\n",
       "      <td>364</td>\n",
       "      <td>-0.39</td>\n",
       "      <td>1631</td>\n",
       "      <td>1</td>\n",
       "      <td>0.0</td>\n",
       "      <td>0.0</td>\n",
       "    </tr>\n",
       "    <tr>\n",
       "      <th>5</th>\n",
       "      <td>2375</td>\n",
       "      <td>26984851516</td>\n",
       "      <td>1</td>\n",
       "      <td>826249</td>\n",
       "      <td>2</td>\n",
       "      <td>1.98</td>\n",
       "      <td>364</td>\n",
       "      <td>-0.60</td>\n",
       "      <td>1642</td>\n",
       "      <td>1</td>\n",
       "      <td>0.0</td>\n",
       "      <td>0.0</td>\n",
       "    </tr>\n",
       "    <tr>\n",
       "      <th>6</th>\n",
       "      <td>2375</td>\n",
       "      <td>26984851516</td>\n",
       "      <td>1</td>\n",
       "      <td>1043142</td>\n",
       "      <td>1</td>\n",
       "      <td>1.57</td>\n",
       "      <td>364</td>\n",
       "      <td>-0.68</td>\n",
       "      <td>1642</td>\n",
       "      <td>1</td>\n",
       "      <td>0.0</td>\n",
       "      <td>0.0</td>\n",
       "    </tr>\n",
       "    <tr>\n",
       "      <th>7</th>\n",
       "      <td>2375</td>\n",
       "      <td>26984851516</td>\n",
       "      <td>1</td>\n",
       "      <td>1085983</td>\n",
       "      <td>1</td>\n",
       "      <td>2.99</td>\n",
       "      <td>364</td>\n",
       "      <td>-0.40</td>\n",
       "      <td>1642</td>\n",
       "      <td>1</td>\n",
       "      <td>0.0</td>\n",
       "      <td>0.0</td>\n",
       "    </tr>\n",
       "    <tr>\n",
       "      <th>8</th>\n",
       "      <td>2375</td>\n",
       "      <td>26984851516</td>\n",
       "      <td>1</td>\n",
       "      <td>1102651</td>\n",
       "      <td>1</td>\n",
       "      <td>1.89</td>\n",
       "      <td>364</td>\n",
       "      <td>0.00</td>\n",
       "      <td>1642</td>\n",
       "      <td>1</td>\n",
       "      <td>0.0</td>\n",
       "      <td>0.0</td>\n",
       "    </tr>\n",
       "    <tr>\n",
       "      <th>9</th>\n",
       "      <td>2375</td>\n",
       "      <td>26984851516</td>\n",
       "      <td>1</td>\n",
       "      <td>6423775</td>\n",
       "      <td>1</td>\n",
       "      <td>2.00</td>\n",
       "      <td>364</td>\n",
       "      <td>-0.79</td>\n",
       "      <td>1642</td>\n",
       "      <td>1</td>\n",
       "      <td>0.0</td>\n",
       "      <td>0.0</td>\n",
       "    </tr>\n",
       "  </tbody>\n",
       "</table>\n",
       "</div>"
      ],
      "text/plain": [
       "   user_id    basket_id  day  item_id  quantity  sales_value  store_id  \\\n",
       "0     2375  26984851472    1  1004906         1         1.39       364   \n",
       "1     2375  26984851472    1  1033142         1         0.82       364   \n",
       "2     2375  26984851472    1  1036325         1         0.99       364   \n",
       "3     2375  26984851472    1  1082185         1         1.21       364   \n",
       "4     2375  26984851472    1  8160430         1         1.50       364   \n",
       "5     2375  26984851516    1   826249         2         1.98       364   \n",
       "6     2375  26984851516    1  1043142         1         1.57       364   \n",
       "7     2375  26984851516    1  1085983         1         2.99       364   \n",
       "8     2375  26984851516    1  1102651         1         1.89       364   \n",
       "9     2375  26984851516    1  6423775         1         2.00       364   \n",
       "\n",
       "   retail_disc  trans_time  week_no  coupon_disc  coupon_match_disc  \n",
       "0        -0.60        1631        1          0.0                0.0  \n",
       "1         0.00        1631        1          0.0                0.0  \n",
       "2        -0.30        1631        1          0.0                0.0  \n",
       "3         0.00        1631        1          0.0                0.0  \n",
       "4        -0.39        1631        1          0.0                0.0  \n",
       "5        -0.60        1642        1          0.0                0.0  \n",
       "6        -0.68        1642        1          0.0                0.0  \n",
       "7        -0.40        1642        1          0.0                0.0  \n",
       "8         0.00        1642        1          0.0                0.0  \n",
       "9        -0.79        1642        1          0.0                0.0  "
      ]
     },
     "execution_count": 3,
     "metadata": {},
     "output_type": "execute_result"
    }
   ],
   "source": [
    "data = pd.read_csv('./data/transaction_data.csv')\n",
    "\n",
    "data.columns = [col.lower() for col in data.columns]\n",
    "data.rename(columns={'household_key': 'user_id',\n",
    "                    'product_id': 'item_id'},\n",
    "           inplace=True)\n",
    "\n",
    "\n",
    "test_size_weeks = 3\n",
    "\n",
    "data_train = data[data['week_no'] < data['week_no'].max() - test_size_weeks]\n",
    "data_test = data[data['week_no'] >= data['week_no'].max() - test_size_weeks]\n",
    "\n",
    "data_train.head(10)"
   ]
  },
  {
   "cell_type": "code",
   "execution_count": 4,
   "id": "fc7533c0",
   "metadata": {},
   "outputs": [],
   "source": [
    "result = data_test.groupby('user_id')['item_id'].unique().reset_index()\n",
    "result.columns=['user_id', 'actual']"
   ]
  },
  {
   "cell_type": "code",
   "execution_count": 5,
   "id": "f0e7854a",
   "metadata": {},
   "outputs": [],
   "source": [
    "popularity = data_train.groupby('item_id')['quantity'].sum().reset_index()\n",
    "popularity.rename(columns={'quantity': 'n_sold'}, inplace=True)\n",
    "\n",
    "top_5000 = popularity.sort_values('n_sold', ascending=False).head(5000).item_id.tolist()"
   ]
  },
  {
   "cell_type": "code",
   "execution_count": 6,
   "id": "8bb7f67b",
   "metadata": {},
   "outputs": [],
   "source": [
    "data_train.loc[~data_train['item_id'].isin(top_5000), 'item_id'] = 999999\n",
    "\n",
    "user_item_matrix = pd.pivot_table(data_train, \n",
    "                                  index='user_id', columns='item_id', \n",
    "                                  values='quantity',\n",
    "                                  aggfunc='count', \n",
    "                                  fill_value=0\n",
    "                                 )\n",
    "\n",
    "user_item_matrix = user_item_matrix.astype(float) # необходимый тип матрицы для implicit\n",
    "sparse_user_item = csr_matrix(user_item_matrix).tocsr()"
   ]
  },
  {
   "cell_type": "code",
   "execution_count": 7,
   "id": "f959e336",
   "metadata": {},
   "outputs": [],
   "source": [
    "userids = user_item_matrix.index.values\n",
    "itemids = user_item_matrix.columns.values\n",
    "\n",
    "matrix_userids = np.arange(len(userids))\n",
    "matrix_itemids = np.arange(len(itemids))\n",
    "\n",
    "id_to_itemid = dict(zip(matrix_itemids, itemids))\n",
    "id_to_userid = dict(zip(matrix_userids, userids))\n",
    "\n",
    "itemid_to_id = dict(zip(itemids, matrix_itemids))\n",
    "userid_to_id = dict(zip(userids, matrix_userids))"
   ]
  },
  {
   "cell_type": "markdown",
   "id": "3d94aa4c",
   "metadata": {},
   "source": [
    "### BM25"
   ]
  },
  {
   "cell_type": "code",
   "execution_count": 8,
   "id": "79a6f73f",
   "metadata": {},
   "outputs": [],
   "source": [
    "user_item_matrix = bm25_weight(user_item_matrix.T).T"
   ]
  },
  {
   "cell_type": "code",
   "execution_count": 26,
   "id": "7d2fdfde",
   "metadata": {},
   "outputs": [
    {
     "data": {
      "application/vnd.jupyter.widget-view+json": {
       "model_id": "037622c421d0425e8b9495edfcb7f2d0",
       "version_major": 2,
       "version_minor": 0
      },
      "text/plain": [
       "  0%|          | 0/15 [00:00<?, ?it/s]"
      ]
     },
     "metadata": {},
     "output_type": "display_data"
    }
   ],
   "source": [
    "model = AlternatingLeastSquares(factors=64, \n",
    "                                regularization=0.05,\n",
    "                                iterations=15, \n",
    "                                calculate_training_loss=True, \n",
    "                                num_threads=0)\n",
    "\n",
    "model.fit(csr_matrix(user_item_matrix).T.tocsr(), show_progress=True)\n",
    "\n",
    "result['als_bm25'] = result['user_id'].apply(lambda x: get_recommendations(x, model=model, N=5))"
   ]
  },
  {
   "cell_type": "code",
   "execution_count": 27,
   "id": "7a686d17",
   "metadata": {},
   "outputs": [
    {
     "data": {
      "text/plain": [
       "0.17790055248618786"
      ]
     },
     "execution_count": 27,
     "metadata": {},
     "output_type": "execute_result"
    }
   ],
   "source": [
    "result.apply(lambda row: precision_at_k(row['als_bm25'], row['actual']), axis=1).mean()"
   ]
  },
  {
   "cell_type": "markdown",
   "id": "ff571c24",
   "metadata": {},
   "source": [
    "### Попробуем оптимизировать параметры модели Grid search'ем"
   ]
  },
  {
   "cell_type": "code",
   "execution_count": 11,
   "id": "93d30464",
   "metadata": {},
   "outputs": [],
   "source": [
    "# Пусть выборка будет производиться из следующих значений\n",
    "param = {\n",
    "    'factors': [32, 64, 128, 256],\n",
    "    'regularization': np.arange(0.01, 0.06, 0.01),\n",
    "    'iterations': [5, 10, 15, 20, 25],\n",
    "}"
   ]
  },
  {
   "cell_type": "code",
   "execution_count": 45,
   "id": "b84a59a3",
   "metadata": {},
   "outputs": [],
   "source": [
    "# соберем матрицу всех возможных вариаций параметров\n",
    "combined_params = np.array(np.meshgrid(param['factors'], \n",
    "                                       param['regularization'], \n",
    "                                       param['iterations'])).T.reshape(-1,3)"
   ]
  },
  {
   "cell_type": "code",
   "execution_count": 30,
   "id": "7fdf6e2d",
   "metadata": {},
   "outputs": [],
   "source": [
    "# прогоним нашу модель с этими параметрами и выберем лучший\n",
    "result_list = []\n",
    "for par in combined_params:\n",
    "    model = AlternatingLeastSquares(factors=int(par[0]), \n",
    "                                regularization=par[1],\n",
    "                                iterations=int(par[2]), \n",
    "                                calculate_training_loss=True, \n",
    "                                num_threads=0)\n",
    "    model.fit(csr_matrix(user_item_matrix).T.tocsr(), show_progress=False)\n",
    "    result['als_bm25'] = result['user_id'].apply(lambda x: get_recommendations(x, model=model, N=5))\n",
    "    current_score = result.apply(lambda row: precision_at_k(row['als_bm25'], row['actual']), axis=1).mean() \n",
    "    result_list.append((par, current_score))    "
   ]
  },
  {
   "cell_type": "code",
   "execution_count": 40,
   "id": "b25b301f",
   "metadata": {},
   "outputs": [],
   "source": [
    "best_result = sorted(result_list, key=lambda x: x[1], reverse=True)[0]"
   ]
  },
  {
   "cell_type": "code",
   "execution_count": 44,
   "id": "21c3b7b8",
   "metadata": {},
   "outputs": [
    {
     "name": "stdout",
     "output_type": "stream",
     "text": [
      "factors: 256\n",
      "regularization: 0.04\n",
      "iterations: 5\n",
      "result: 0.19919638372677048\n"
     ]
    }
   ],
   "source": [
    "print(f'factors: {int(best_result[0][0])}\\n'\n",
    "      f'regularization: {best_result[0][1]}\\n'\n",
    "      f'iterations: {int(best_result[0][2])}\\n'\n",
    "      f'result: {best_result[1]}')"
   ]
  },
  {
   "cell_type": "code",
   "execution_count": 47,
   "id": "f39aab2c",
   "metadata": {},
   "outputs": [
    {
     "data": {
      "text/plain": [
       "0.2004018081366148"
      ]
     },
     "execution_count": 47,
     "metadata": {},
     "output_type": "execute_result"
    }
   ],
   "source": [
    "# еще раз протестируем модель с найденными значениями\n",
    "model = AlternatingLeastSquares(factors=256, \n",
    "                                regularization=0.04,\n",
    "                                iterations=5, \n",
    "                                calculate_training_loss=True, \n",
    "                                num_threads=0)\n",
    "model.fit(csr_matrix(user_item_matrix).T.tocsr(), show_progress=False)\n",
    "result['als_bm25'] = result['user_id'].apply(lambda x: get_recommendations(x, model=model, N=5))\n",
    "result.apply(lambda row: precision_at_k(row['als_bm25'], row['actual']), axis=1).mean()"
   ]
  },
  {
   "cell_type": "markdown",
   "id": "46f249fd",
   "metadata": {},
   "source": [
    "Получили даже чуть больше, полагаю из-за другого random_state"
   ]
  },
  {
   "cell_type": "code",
   "execution_count": null,
   "id": "2c2fbec2",
   "metadata": {},
   "outputs": [],
   "source": []
  }
 ],
 "metadata": {
  "kernelspec": {
   "display_name": "Python 3 (ipykernel)",
   "language": "python",
   "name": "python3"
  },
  "language_info": {
   "codemirror_mode": {
    "name": "ipython",
    "version": 3
   },
   "file_extension": ".py",
   "mimetype": "text/x-python",
   "name": "python",
   "nbconvert_exporter": "python",
   "pygments_lexer": "ipython3",
   "version": "3.8.10"
  },
  "varInspector": {
   "cols": {
    "lenName": 16,
    "lenType": 16,
    "lenVar": 40
   },
   "kernels_config": {
    "python": {
     "delete_cmd_postfix": "",
     "delete_cmd_prefix": "del ",
     "library": "var_list.py",
     "varRefreshCmd": "print(var_dic_list())"
    },
    "r": {
     "delete_cmd_postfix": ") ",
     "delete_cmd_prefix": "rm(",
     "library": "var_list.r",
     "varRefreshCmd": "cat(var_dic_list()) "
    }
   },
   "types_to_exclude": [
    "module",
    "function",
    "builtin_function_or_method",
    "instance",
    "_Feature"
   ],
   "window_display": false
  }
 },
 "nbformat": 4,
 "nbformat_minor": 5
}
