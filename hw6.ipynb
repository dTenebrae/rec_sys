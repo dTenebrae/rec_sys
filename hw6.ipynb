{
 "cells": [
  {
   "cell_type": "markdown",
   "id": "58517083",
   "metadata": {},
   "source": [
    "### Imports"
   ]
  },
  {
   "cell_type": "code",
   "execution_count": 1,
   "id": "6a55d8f9",
   "metadata": {},
   "outputs": [],
   "source": [
    "import pandas as pd\n",
    "import numpy as np\n",
    "import matplotlib.pyplot as plt\n",
    "%matplotlib inline\n",
    "\n",
    "# Для работы с матрицами\n",
    "from scipy.sparse import csr_matrix\n",
    "\n",
    "# Матричная факторизация\n",
    "from implicit import als\n",
    "\n",
    "# Модель второго уровня\n",
    "from lightgbm import LGBMClassifier\n",
    "\n",
    "# Написанные нами функции\n",
    "from src.metrics import precision_at_k, recall_at_k\n",
    "from src.utils import prefilter_items\n",
    "from src.recommenders import MainRecommender\n",
    "\n",
    "import warnings\n",
    "warnings.simplefilter(\"ignore\")\n",
    "\n",
    "pd.set_option(\"display.max_columns\", 999)"
   ]
  },
  {
   "cell_type": "markdown",
   "id": "703701ba",
   "metadata": {},
   "source": [
    "___"
   ]
  },
  {
   "cell_type": "markdown",
   "id": "0271c3b5",
   "metadata": {},
   "source": [
    "### Constants"
   ]
  },
  {
   "cell_type": "code",
   "execution_count": 2,
   "id": "1aba9904",
   "metadata": {},
   "outputs": [],
   "source": [
    "ITEM_COL = 'item_id'\n",
    "USER_COL = 'user_id'\n",
    "ACTUAL_COL = 'actual'\n",
    "\n",
    "N_PREDICT = 50 \n",
    "TOP_K_RECALL = 50\n",
    "TOP_K_PRECISION = 5\n",
    "\n",
    "VAL_MATCHER_WEEKS = 9\n",
    "VAL_RANKER_WEEKS = 3"
   ]
  },
  {
   "cell_type": "markdown",
   "id": "703e51e0",
   "metadata": {},
   "source": [
    "### Functions"
   ]
  },
  {
   "cell_type": "code",
   "execution_count": 3,
   "id": "fa401741",
   "metadata": {},
   "outputs": [],
   "source": [
    "def print_stats_data(df_data, name_df):\n",
    "    print(name_df)\n",
    "    print(60 * '=')\n",
    "    print(f\"Shape: {df_data.shape}\\tUsers: {df_data[USER_COL].nunique()}\\t\"\n",
    "          f\"Items: {df_data[ITEM_COL].nunique()}\\n\")"
   ]
  },
  {
   "cell_type": "code",
   "execution_count": 4,
   "id": "c0bd4ae7",
   "metadata": {},
   "outputs": [],
   "source": [
    "def calc_recall(df_data, top_k):\n",
    "    for col_name in df_data.columns[2:]:\n",
    "        yield col_name, \\\n",
    "        df_data.apply(lambda row: recall_at_k(row[col_name], \n",
    "                                              row[ACTUAL_COL], \n",
    "                                              k=top_k), axis=1).mean()"
   ]
  },
  {
   "cell_type": "code",
   "execution_count": 5,
   "id": "b1017a9f",
   "metadata": {},
   "outputs": [],
   "source": [
    "def calc_precision(df_data, top_k):\n",
    "    for col_name in df_data.columns[2:]:\n",
    "        yield col_name, \\\n",
    "        df_data.apply(lambda row: precision_at_k(row[col_name], \n",
    "                                                 row[ACTUAL_COL], \n",
    "                                                 k=top_k), axis=1).mean()"
   ]
  },
  {
   "cell_type": "markdown",
   "id": "ccb52561",
   "metadata": {},
   "source": [
    "___"
   ]
  },
  {
   "cell_type": "code",
   "execution_count": 6,
   "id": "bbd08851",
   "metadata": {},
   "outputs": [],
   "source": [
    "data = pd.read_csv('./data/retail_train.csv')\n",
    "item_features = pd.read_csv('./data/product.csv')\n",
    "user_features = pd.read_csv('./data/hh_demographic.csv')"
   ]
  },
  {
   "cell_type": "code",
   "execution_count": 7,
   "id": "f56b5d77",
   "metadata": {},
   "outputs": [],
   "source": [
    "# Переведем названия столбцов в малые буквы\n",
    "item_features.columns = list(map(str.lower, item_features.columns))\n",
    "user_features.columns = list(map(str.lower, user_features.columns))\n",
    "\n",
    "# переименуем столбцы\n",
    "item_features.rename(columns={'product_id': ITEM_COL}, inplace=True)\n",
    "user_features.rename(columns={'household_key': USER_COL }, inplace=True)"
   ]
  },
  {
   "cell_type": "markdown",
   "id": "44366d55",
   "metadata": {},
   "source": [
    "### Split dataset"
   ]
  },
  {
   "cell_type": "code",
   "execution_count": 8,
   "id": "ef35eb1b",
   "metadata": {},
   "outputs": [
    {
     "data": {
      "text/plain": [
       "95"
      ]
     },
     "execution_count": 8,
     "metadata": {},
     "output_type": "execute_result"
    }
   ],
   "source": [
    "# Максимальное значение недели\n",
    "data['week_no'].max()"
   ]
  },
  {
   "cell_type": "code",
   "execution_count": 9,
   "id": "7173e7a4",
   "metadata": {},
   "outputs": [],
   "source": [
    "# берем данные для тренировки matching модели (модель, выдающая список рекомендаций)\n",
    "# данные старше 9 недель\n",
    "data_train_matcher = data[data['week_no'] < data['week_no'].max() - VAL_MATCHER_WEEKS]\n",
    "\n",
    "# берем данные для валидации matching модели\n",
    "# данные от 9 до 3 недель назад (точнее до последней недели датасета)\n",
    "data_val_matcher = data[(data['week_no'] >= data['week_no'].max() - VAL_MATCHER_WEEKS) &\n",
    "                      (data['week_no'] < data['week_no'].max() - (VAL_RANKER_WEEKS))]\n",
    "\n",
    "\n",
    "# берем данные для тренировки ranking модели (модель, ранжирующая выдачу предыдущей модели)\n",
    "data_train_ranker = data_val_matcher.copy()\n",
    "# берем данные для теста ranking, matching модели\n",
    "# данные за последние 3 недели\n",
    "data_val_ranker = data[data['week_no'] >= data['week_no'].max() - VAL_RANKER_WEEKS]"
   ]
  },
  {
   "cell_type": "code",
   "execution_count": 10,
   "id": "16c3cafe",
   "metadata": {},
   "outputs": [
    {
     "name": "stdout",
     "output_type": "stream",
     "text": [
      "train_matcher\n",
      "============================================================\n",
      "Shape: (2108779, 12)\tUsers: 2498\tItems: 83685\n",
      "\n",
      "val_matcher\n",
      "============================================================\n",
      "Shape: (169711, 12)\tUsers: 2154\tItems: 27649\n",
      "\n",
      "train_ranker\n",
      "============================================================\n",
      "Shape: (169711, 12)\tUsers: 2154\tItems: 27649\n",
      "\n",
      "val_ranker\n",
      "============================================================\n",
      "Shape: (118314, 12)\tUsers: 2042\tItems: 24329\n",
      "\n"
     ]
    }
   ],
   "source": [
    "print_stats_data(data_train_matcher,'train_matcher')\n",
    "print_stats_data(data_val_matcher,'val_matcher')\n",
    "print_stats_data(data_train_ranker,'train_ranker')\n",
    "print_stats_data(data_val_ranker,'val_ranker')"
   ]
  },
  {
   "cell_type": "markdown",
   "id": "8ac7f4b5",
   "metadata": {},
   "source": [
    "### Prefilter"
   ]
  },
  {
   "cell_type": "code",
   "execution_count": 11,
   "id": "50b2cd44",
   "metadata": {},
   "outputs": [
    {
     "name": "stdout",
     "output_type": "stream",
     "text": [
      "Decreased # items from 83685 to 5001\n"
     ]
    }
   ],
   "source": [
    "n_items_before = data_train_matcher['item_id'].nunique()\n",
    "\n",
    "data_train_matcher = prefilter_items(data_train_matcher, \n",
    "                                     item_features=item_features, \n",
    "                                     take_n_popular=5000)\n",
    "\n",
    "n_items_after = data_train_matcher['item_id'].nunique()\n",
    "print('Decreased # items from {} to {}'.format(n_items_before, n_items_after))"
   ]
  },
  {
   "cell_type": "code",
   "execution_count": 12,
   "id": "f4f7ef28",
   "metadata": {},
   "outputs": [
    {
     "name": "stdout",
     "output_type": "stream",
     "text": [
      "train_matcher\n",
      "============================================================\n",
      "Shape: (861404, 13)\tUsers: 2495\tItems: 5001\n",
      "\n",
      "val_matcher\n",
      "============================================================\n",
      "Shape: (169615, 12)\tUsers: 2151\tItems: 27644\n",
      "\n",
      "train_ranker\n",
      "============================================================\n",
      "Shape: (169615, 12)\tUsers: 2151\tItems: 27644\n",
      "\n",
      "val_ranker\n",
      "============================================================\n",
      "Shape: (118282, 12)\tUsers: 2040\tItems: 24325\n",
      "\n"
     ]
    }
   ],
   "source": [
    "# ищем общих пользователей\n",
    "common_users = data_train_matcher['user_id'].values\n",
    "\n",
    "data_val_matcher = data_val_matcher[data_val_matcher['user_id'].isin(common_users)]\n",
    "data_train_ranker = data_train_ranker[data_train_ranker['user_id'].isin(common_users)]\n",
    "data_val_ranker = data_val_ranker[data_val_ranker['user_id'].isin(common_users)]\n",
    "\n",
    "print_stats_data(data_train_matcher,'train_matcher')\n",
    "print_stats_data(data_val_matcher,'val_matcher')\n",
    "print_stats_data(data_train_ranker,'train_ranker')\n",
    "print_stats_data(data_val_ranker,'val_ranker')"
   ]
  },
  {
   "cell_type": "markdown",
   "id": "3d018b99",
   "metadata": {},
   "source": [
    "### recommender train"
   ]
  },
  {
   "cell_type": "code",
   "execution_count": 13,
   "id": "a68ab7dc",
   "metadata": {},
   "outputs": [
    {
     "name": "stderr",
     "output_type": "stream",
     "text": [
      "WARNING:root:Intel MKL BLAS detected. Its highly recommend to set the environment variable 'export MKL_NUM_THREADS=1' to disable its internal multithreading\n"
     ]
    },
    {
     "data": {
      "application/vnd.jupyter.widget-view+json": {
       "model_id": "bfd3da214a904042b32a396a85465c6e",
       "version_major": 2,
       "version_minor": 0
      },
      "text/plain": [
       "  0%|          | 0/15 [00:00<?, ?it/s]"
      ]
     },
     "metadata": {},
     "output_type": "display_data"
    },
    {
     "data": {
      "application/vnd.jupyter.widget-view+json": {
       "model_id": "2b4e3c13a99747b3899c7b7232bf1bc9",
       "version_major": 2,
       "version_minor": 0
      },
      "text/plain": [
       "  0%|          | 0/5001 [00:00<?, ?it/s]"
      ]
     },
     "metadata": {},
     "output_type": "display_data"
    }
   ],
   "source": [
    "recommender = MainRecommender(data_train_matcher)"
   ]
  },
  {
   "cell_type": "code",
   "execution_count": null,
   "id": "70294100",
   "metadata": {},
   "outputs": [],
   "source": []
  },
  {
   "cell_type": "code",
   "execution_count": 80,
   "id": "8e824f4a",
   "metadata": {},
   "outputs": [],
   "source": [
    "result_eval_matcher = data_val_matcher.groupby(USER_COL)[ITEM_COL].unique().reset_index()\n",
    "result_eval_matcher.columns=[USER_COL, ACTUAL_COL]"
   ]
  },
  {
   "cell_type": "code",
   "execution_count": 81,
   "id": "ecc5fb2f",
   "metadata": {},
   "outputs": [
    {
     "data": {
      "text/html": [
       "<div>\n",
       "<style scoped>\n",
       "    .dataframe tbody tr th:only-of-type {\n",
       "        vertical-align: middle;\n",
       "    }\n",
       "\n",
       "    .dataframe tbody tr th {\n",
       "        vertical-align: top;\n",
       "    }\n",
       "\n",
       "    .dataframe thead th {\n",
       "        text-align: right;\n",
       "    }\n",
       "</style>\n",
       "<table border=\"1\" class=\"dataframe\">\n",
       "  <thead>\n",
       "    <tr style=\"text-align: right;\">\n",
       "      <th></th>\n",
       "      <th>user_id</th>\n",
       "      <th>actual</th>\n",
       "    </tr>\n",
       "  </thead>\n",
       "  <tbody>\n",
       "    <tr>\n",
       "      <th>0</th>\n",
       "      <td>1</td>\n",
       "      <td>[853529, 865456, 867607, 872137, 874905, 87524...</td>\n",
       "    </tr>\n",
       "    <tr>\n",
       "      <th>1</th>\n",
       "      <td>2</td>\n",
       "      <td>[15830248, 838136, 839656, 861272, 866211, 870...</td>\n",
       "    </tr>\n",
       "  </tbody>\n",
       "</table>\n",
       "</div>"
      ],
      "text/plain": [
       "   user_id                                             actual\n",
       "0        1  [853529, 865456, 867607, 872137, 874905, 87524...\n",
       "1        2  [15830248, 838136, 839656, 861272, 866211, 870..."
      ]
     },
     "execution_count": 81,
     "metadata": {},
     "output_type": "execute_result"
    }
   ],
   "source": [
    "result_eval_matcher.head(2)"
   ]
  },
  {
   "cell_type": "markdown",
   "id": "931277bf",
   "metadata": {},
   "source": [
    "%%time\n",
    "result_eval_matcher['own_rec'] = result_eval_matcher[USER_COL].apply(lambda x: recommender.get_own_recommendations(x, N=N_PREDICT))\n",
    "result_eval_matcher['sim_item_rec'] = result_eval_matcher[USER_COL].apply(lambda x: recommender.get_similar_items_recommendation(x, N=N_PREDICT))\n",
    "result_eval_matcher['als_rec'] = result_eval_matcher[USER_COL].apply(lambda x: recommender.get_als_recommendations(x, N=N_PREDICT))"
   ]
  },
  {
   "cell_type": "markdown",
   "id": "b7de2bfe",
   "metadata": {},
   "source": [
    "sorted(calc_recall(result_eval_matcher, TOP_K_RECALL), key=lambda x: x[1],reverse=True)"
   ]
  },
  {
   "cell_type": "markdown",
   "id": "f4704a4a",
   "metadata": {},
   "source": [
    "sorted(calc_precision(result_eval_matcher, TOP_K_PRECISION), key=lambda x: x[1],reverse=True)"
   ]
  },
  {
   "cell_type": "code",
   "execution_count": 82,
   "id": "4ab9d16d",
   "metadata": {},
   "outputs": [],
   "source": [
    "test_k = [20, 50, 100, 200, 500]"
   ]
  },
  {
   "cell_type": "code",
   "execution_count": 83,
   "id": "be3d29be",
   "metadata": {},
   "outputs": [
    {
     "name": "stdout",
     "output_type": "stream",
     "text": [
      "CPU times: user 10min 21s, sys: 26.7 s, total: 10min 47s\n",
      "Wall time: 3min 16s\n"
     ]
    }
   ],
   "source": [
    "%%time\n",
    "for k in test_k:\n",
    "    result_eval_matcher[f'own_rec_{k}'] = result_eval_matcher[USER_COL].apply(lambda x: recommender.get_own_recommendations(x, N=k))\n",
    "    result_eval_matcher[f'sim_item_rec_{k}'] = result_eval_matcher[USER_COL].apply(lambda x: recommender.get_similar_items_recommendation(x, N=k))\n",
    "    result_eval_matcher[f'als_rec_{k}'] = result_eval_matcher[USER_COL].apply(lambda x: recommender.get_als_recommendations(x, N=k))"
   ]
  },
  {
   "cell_type": "code",
   "execution_count": 101,
   "id": "60a99657",
   "metadata": {},
   "outputs": [
    {
     "data": {
      "text/html": [
       "<div>\n",
       "<style scoped>\n",
       "    .dataframe tbody tr th:only-of-type {\n",
       "        vertical-align: middle;\n",
       "    }\n",
       "\n",
       "    .dataframe tbody tr th {\n",
       "        vertical-align: top;\n",
       "    }\n",
       "\n",
       "    .dataframe thead th {\n",
       "        text-align: right;\n",
       "    }\n",
       "</style>\n",
       "<table border=\"1\" class=\"dataframe\">\n",
       "  <thead>\n",
       "    <tr style=\"text-align: right;\">\n",
       "      <th></th>\n",
       "      <th>user_id</th>\n",
       "      <th>actual</th>\n",
       "      <th>own_rec_20</th>\n",
       "      <th>sim_item_rec_20</th>\n",
       "      <th>als_rec_20</th>\n",
       "      <th>own_rec_50</th>\n",
       "      <th>sim_item_rec_50</th>\n",
       "      <th>als_rec_50</th>\n",
       "      <th>own_rec_100</th>\n",
       "      <th>sim_item_rec_100</th>\n",
       "      <th>als_rec_100</th>\n",
       "      <th>own_rec_200</th>\n",
       "      <th>sim_item_rec_200</th>\n",
       "      <th>als_rec_200</th>\n",
       "      <th>own_rec_500</th>\n",
       "      <th>sim_item_rec_500</th>\n",
       "      <th>als_rec_500</th>\n",
       "    </tr>\n",
       "  </thead>\n",
       "  <tbody>\n",
       "    <tr>\n",
       "      <th>0</th>\n",
       "      <td>1</td>\n",
       "      <td>[853529, 865456, 867607, 872137, 874905, 87524...</td>\n",
       "      <td>[856942, 9297615, 5577022, 877391, 9655212, 88...</td>\n",
       "      <td>[824758, 1007512, 826120, 5577022, 907002, 983...</td>\n",
       "      <td>[1037332, 1047619, 908312, 841584, 1094924, 85...</td>\n",
       "      <td>[856942, 9297615, 5577022, 877391, 9655212, 88...</td>\n",
       "      <td>[824758, 1007512, 826120, 5577022, 907002, 983...</td>\n",
       "      <td>[1037332, 1047619, 908312, 841584, 1094924, 85...</td>\n",
       "      <td>[856942, 9297615, 5577022, 877391, 9655212, 88...</td>\n",
       "      <td>[824758, 1007512, 826120, 5577022, 907002, 983...</td>\n",
       "      <td>[1037332, 1047619, 908312, 841584, 1094924, 85...</td>\n",
       "      <td>[856942, 9297615, 5577022, 877391, 9655212, 88...</td>\n",
       "      <td>[824758, 1007512, 826120, 5577022, 907002, 983...</td>\n",
       "      <td>[1037332, 1047619, 908312, 841584, 1094924, 85...</td>\n",
       "      <td>[856942, 9297615, 5577022, 877391, 9655212, 88...</td>\n",
       "      <td>[824758, 1007512, 826120, 5577022, 907002, 983...</td>\n",
       "      <td>[1037332, 1047619, 908312, 841584, 1094924, 85...</td>\n",
       "    </tr>\n",
       "    <tr>\n",
       "      <th>1</th>\n",
       "      <td>2</td>\n",
       "      <td>[15830248, 838136, 839656, 861272, 866211, 870...</td>\n",
       "      <td>[911974, 1076580, 1103898, 5567582, 1056620, 9...</td>\n",
       "      <td>[1137346, 5569845, 933067, 985999, 880888, 819...</td>\n",
       "      <td>[5569230, 916122, 1029743, 951197, 844179, 865...</td>\n",
       "      <td>[911974, 1076580, 1103898, 5567582, 1056620, 9...</td>\n",
       "      <td>[1137346, 5569845, 933067, 985999, 880888, 819...</td>\n",
       "      <td>[5569230, 916122, 1029743, 951197, 844179, 865...</td>\n",
       "      <td>[911974, 1076580, 1103898, 5567582, 1056620, 9...</td>\n",
       "      <td>[1137346, 5569845, 933067, 985999, 880888, 819...</td>\n",
       "      <td>[5569230, 916122, 1029743, 951197, 844179, 865...</td>\n",
       "      <td>[911974, 1076580, 1103898, 5567582, 1056620, 9...</td>\n",
       "      <td>[1137346, 5569845, 933067, 985999, 880888, 819...</td>\n",
       "      <td>[5569230, 916122, 1029743, 951197, 844179, 865...</td>\n",
       "      <td>[911974, 1076580, 1103898, 5567582, 1056620, 9...</td>\n",
       "      <td>[1137346, 5569845, 933067, 985999, 880888, 819...</td>\n",
       "      <td>[5569230, 916122, 1029743, 951197, 844179, 865...</td>\n",
       "    </tr>\n",
       "  </tbody>\n",
       "</table>\n",
       "</div>"
      ],
      "text/plain": [
       "   user_id                                             actual  \\\n",
       "0        1  [853529, 865456, 867607, 872137, 874905, 87524...   \n",
       "1        2  [15830248, 838136, 839656, 861272, 866211, 870...   \n",
       "\n",
       "                                          own_rec_20  \\\n",
       "0  [856942, 9297615, 5577022, 877391, 9655212, 88...   \n",
       "1  [911974, 1076580, 1103898, 5567582, 1056620, 9...   \n",
       "\n",
       "                                     sim_item_rec_20  \\\n",
       "0  [824758, 1007512, 826120, 5577022, 907002, 983...   \n",
       "1  [1137346, 5569845, 933067, 985999, 880888, 819...   \n",
       "\n",
       "                                          als_rec_20  \\\n",
       "0  [1037332, 1047619, 908312, 841584, 1094924, 85...   \n",
       "1  [5569230, 916122, 1029743, 951197, 844179, 865...   \n",
       "\n",
       "                                          own_rec_50  \\\n",
       "0  [856942, 9297615, 5577022, 877391, 9655212, 88...   \n",
       "1  [911974, 1076580, 1103898, 5567582, 1056620, 9...   \n",
       "\n",
       "                                     sim_item_rec_50  \\\n",
       "0  [824758, 1007512, 826120, 5577022, 907002, 983...   \n",
       "1  [1137346, 5569845, 933067, 985999, 880888, 819...   \n",
       "\n",
       "                                          als_rec_50  \\\n",
       "0  [1037332, 1047619, 908312, 841584, 1094924, 85...   \n",
       "1  [5569230, 916122, 1029743, 951197, 844179, 865...   \n",
       "\n",
       "                                         own_rec_100  \\\n",
       "0  [856942, 9297615, 5577022, 877391, 9655212, 88...   \n",
       "1  [911974, 1076580, 1103898, 5567582, 1056620, 9...   \n",
       "\n",
       "                                    sim_item_rec_100  \\\n",
       "0  [824758, 1007512, 826120, 5577022, 907002, 983...   \n",
       "1  [1137346, 5569845, 933067, 985999, 880888, 819...   \n",
       "\n",
       "                                         als_rec_100  \\\n",
       "0  [1037332, 1047619, 908312, 841584, 1094924, 85...   \n",
       "1  [5569230, 916122, 1029743, 951197, 844179, 865...   \n",
       "\n",
       "                                         own_rec_200  \\\n",
       "0  [856942, 9297615, 5577022, 877391, 9655212, 88...   \n",
       "1  [911974, 1076580, 1103898, 5567582, 1056620, 9...   \n",
       "\n",
       "                                    sim_item_rec_200  \\\n",
       "0  [824758, 1007512, 826120, 5577022, 907002, 983...   \n",
       "1  [1137346, 5569845, 933067, 985999, 880888, 819...   \n",
       "\n",
       "                                         als_rec_200  \\\n",
       "0  [1037332, 1047619, 908312, 841584, 1094924, 85...   \n",
       "1  [5569230, 916122, 1029743, 951197, 844179, 865...   \n",
       "\n",
       "                                         own_rec_500  \\\n",
       "0  [856942, 9297615, 5577022, 877391, 9655212, 88...   \n",
       "1  [911974, 1076580, 1103898, 5567582, 1056620, 9...   \n",
       "\n",
       "                                    sim_item_rec_500  \\\n",
       "0  [824758, 1007512, 826120, 5577022, 907002, 983...   \n",
       "1  [1137346, 5569845, 933067, 985999, 880888, 819...   \n",
       "\n",
       "                                         als_rec_500  \n",
       "0  [1037332, 1047619, 908312, 841584, 1094924, 85...  \n",
       "1  [5569230, 916122, 1029743, 951197, 844179, 865...  "
      ]
     },
     "execution_count": 101,
     "metadata": {},
     "output_type": "execute_result"
    }
   ],
   "source": [
    "result_eval_matcher.head(2)"
   ]
  },
  {
   "cell_type": "code",
   "execution_count": 92,
   "id": "24404680",
   "metadata": {},
   "outputs": [
    {
     "name": "stdout",
     "output_type": "stream",
     "text": [
      "('own_rec_20', 0.03928427679372909)\n",
      "('own_rec_50', 0.06525657038145175)\n",
      "('own_rec_100', 0.09604492955885034)\n",
      "('own_rec_200', 0.13537278412833242)\n",
      "('own_rec_500', 0.18205324555508678)\n"
     ]
    }
   ],
   "source": [
    "for k in test_k:\n",
    "    print(sorted(calc_recall(result_eval_matcher, k), key=lambda x: x[1],reverse=True)[0])"
   ]
  },
  {
   "cell_type": "markdown",
   "id": "327dacf1",
   "metadata": {},
   "source": [
    "Очевидно, что при увеличении k значение метрики recall также увеличивается. "
   ]
  },
  {
   "cell_type": "markdown",
   "id": "d24685b9",
   "metadata": {},
   "source": [
    "___"
   ]
  },
  {
   "cell_type": "markdown",
   "id": "f0ffc158",
   "metadata": {},
   "source": [
    "## Ranking"
   ]
  },
  {
   "cell_type": "markdown",
   "id": "73d6be91",
   "metadata": {},
   "source": [
    "### подготовка train датасета"
   ]
  },
  {
   "cell_type": "code",
   "execution_count": 20,
   "id": "d63c25b8",
   "metadata": {},
   "outputs": [
    {
     "name": "stdout",
     "output_type": "stream",
     "text": [
      "CPU times: user 9.06 s, sys: 10.2 ms, total: 9.07 s\n",
      "Wall time: 9.1 s\n"
     ]
    }
   ],
   "source": [
    "%%time\n",
    "# создаем датафрейм со всеми уникальными юзерами из тренировочного\n",
    "df_match_candidates = pd.DataFrame(data_train_ranker[USER_COL].unique(), columns=[USER_COL])\n",
    "# для каждого делаем предсказания get_own_recommendation (ItemItem)\n",
    "df_match_candidates['candidates'] = df_match_candidates[USER_COL].apply(lambda x: recommender.get_own_recommendations(x, N=N_PREDICT))"
   ]
  },
  {
   "cell_type": "code",
   "execution_count": 21,
   "id": "6979ecc1",
   "metadata": {},
   "outputs": [
    {
     "data": {
      "text/html": [
       "<div>\n",
       "<style scoped>\n",
       "    .dataframe tbody tr th:only-of-type {\n",
       "        vertical-align: middle;\n",
       "    }\n",
       "\n",
       "    .dataframe tbody tr th {\n",
       "        vertical-align: top;\n",
       "    }\n",
       "\n",
       "    .dataframe thead th {\n",
       "        text-align: right;\n",
       "    }\n",
       "</style>\n",
       "<table border=\"1\" class=\"dataframe\">\n",
       "  <thead>\n",
       "    <tr style=\"text-align: right;\">\n",
       "      <th></th>\n",
       "      <th>user_id</th>\n",
       "      <th>candidates</th>\n",
       "    </tr>\n",
       "  </thead>\n",
       "  <tbody>\n",
       "    <tr>\n",
       "      <th>0</th>\n",
       "      <td>2070</td>\n",
       "      <td>[1105426, 1097350, 879194, 948640, 928263, 944...</td>\n",
       "    </tr>\n",
       "    <tr>\n",
       "      <th>1</th>\n",
       "      <td>2021</td>\n",
       "      <td>[950935, 1119454, 835578, 863762, 1019142, 102...</td>\n",
       "    </tr>\n",
       "  </tbody>\n",
       "</table>\n",
       "</div>"
      ],
      "text/plain": [
       "   user_id                                         candidates\n",
       "0     2070  [1105426, 1097350, 879194, 948640, 928263, 944...\n",
       "1     2021  [950935, 1119454, 835578, 863762, 1019142, 102..."
      ]
     },
     "execution_count": 21,
     "metadata": {},
     "output_type": "execute_result"
    }
   ],
   "source": [
    "df_match_candidates.head(2)"
   ]
  },
  {
   "cell_type": "code",
   "execution_count": 22,
   "id": "76d2dead",
   "metadata": {},
   "outputs": [],
   "source": [
    "# разворачиваем все это в датафрейм, где в одной строке один юзер и один итем\n",
    "df_items = df_match_candidates.apply(lambda x: pd.Series(x['candidates']), \n",
    "                                     axis=1).stack().reset_index(level=1, drop=True)\n",
    "df_items.name = 'item_id'\n",
    "df_match_candidates = df_match_candidates.drop('candidates', axis=1).join(df_items)"
   ]
  },
  {
   "cell_type": "code",
   "execution_count": 23,
   "id": "8a61bb00",
   "metadata": {},
   "outputs": [
    {
     "data": {
      "text/html": [
       "<div>\n",
       "<style scoped>\n",
       "    .dataframe tbody tr th:only-of-type {\n",
       "        vertical-align: middle;\n",
       "    }\n",
       "\n",
       "    .dataframe tbody tr th {\n",
       "        vertical-align: top;\n",
       "    }\n",
       "\n",
       "    .dataframe thead th {\n",
       "        text-align: right;\n",
       "    }\n",
       "</style>\n",
       "<table border=\"1\" class=\"dataframe\">\n",
       "  <thead>\n",
       "    <tr style=\"text-align: right;\">\n",
       "      <th></th>\n",
       "      <th>user_id</th>\n",
       "      <th>item_id</th>\n",
       "    </tr>\n",
       "  </thead>\n",
       "  <tbody>\n",
       "    <tr>\n",
       "      <th>0</th>\n",
       "      <td>2070</td>\n",
       "      <td>1105426</td>\n",
       "    </tr>\n",
       "    <tr>\n",
       "      <th>0</th>\n",
       "      <td>2070</td>\n",
       "      <td>1097350</td>\n",
       "    </tr>\n",
       "    <tr>\n",
       "      <th>0</th>\n",
       "      <td>2070</td>\n",
       "      <td>879194</td>\n",
       "    </tr>\n",
       "    <tr>\n",
       "      <th>0</th>\n",
       "      <td>2070</td>\n",
       "      <td>948640</td>\n",
       "    </tr>\n",
       "    <tr>\n",
       "      <th>0</th>\n",
       "      <td>2070</td>\n",
       "      <td>928263</td>\n",
       "    </tr>\n",
       "  </tbody>\n",
       "</table>\n",
       "</div>"
      ],
      "text/plain": [
       "   user_id  item_id\n",
       "0     2070  1105426\n",
       "0     2070  1097350\n",
       "0     2070   879194\n",
       "0     2070   948640\n",
       "0     2070   928263"
      ]
     },
     "execution_count": 23,
     "metadata": {},
     "output_type": "execute_result"
    }
   ],
   "source": [
    "df_match_candidates.head(5)"
   ]
  },
  {
   "cell_type": "code",
   "execution_count": 24,
   "id": "ddd5d5cc",
   "metadata": {},
   "outputs": [
    {
     "name": "stdout",
     "output_type": "stream",
     "text": [
      "match_candidates\n",
      "============================================================\n",
      "Shape: (107550, 2)\tUsers: 2151\tItems: 4574\n",
      "\n"
     ]
    }
   ],
   "source": [
    "print_stats_data(df_match_candidates, 'match_candidates')"
   ]
  },
  {
   "cell_type": "code",
   "execution_count": 25,
   "id": "4589f9c9",
   "metadata": {},
   "outputs": [],
   "source": [
    "# создадим датафрейм из тренировочного, и так как товары здесь были реально куплены проставим\n",
    "# в таргете 1\n",
    "df_ranker_train = data_train_ranker[[USER_COL, ITEM_COL]].copy()\n",
    "df_ranker_train['target'] = 1"
   ]
  },
  {
   "cell_type": "code",
   "execution_count": 26,
   "id": "ab6716bf",
   "metadata": {},
   "outputs": [
    {
     "data": {
      "text/html": [
       "<div>\n",
       "<style scoped>\n",
       "    .dataframe tbody tr th:only-of-type {\n",
       "        vertical-align: middle;\n",
       "    }\n",
       "\n",
       "    .dataframe tbody tr th {\n",
       "        vertical-align: top;\n",
       "    }\n",
       "\n",
       "    .dataframe thead th {\n",
       "        text-align: right;\n",
       "    }\n",
       "</style>\n",
       "<table border=\"1\" class=\"dataframe\">\n",
       "  <thead>\n",
       "    <tr style=\"text-align: right;\">\n",
       "      <th></th>\n",
       "      <th>user_id</th>\n",
       "      <th>item_id</th>\n",
       "      <th>target</th>\n",
       "    </tr>\n",
       "  </thead>\n",
       "  <tbody>\n",
       "    <tr>\n",
       "      <th>2104867</th>\n",
       "      <td>2070</td>\n",
       "      <td>1019940</td>\n",
       "      <td>1</td>\n",
       "    </tr>\n",
       "    <tr>\n",
       "      <th>2107468</th>\n",
       "      <td>2021</td>\n",
       "      <td>840361</td>\n",
       "      <td>1</td>\n",
       "    </tr>\n",
       "    <tr>\n",
       "      <th>2107469</th>\n",
       "      <td>2021</td>\n",
       "      <td>856060</td>\n",
       "      <td>1</td>\n",
       "    </tr>\n",
       "    <tr>\n",
       "      <th>2107470</th>\n",
       "      <td>2021</td>\n",
       "      <td>869344</td>\n",
       "      <td>1</td>\n",
       "    </tr>\n",
       "    <tr>\n",
       "      <th>2107471</th>\n",
       "      <td>2021</td>\n",
       "      <td>896862</td>\n",
       "      <td>1</td>\n",
       "    </tr>\n",
       "  </tbody>\n",
       "</table>\n",
       "</div>"
      ],
      "text/plain": [
       "         user_id  item_id  target\n",
       "2104867     2070  1019940       1\n",
       "2107468     2021   840361       1\n",
       "2107469     2021   856060       1\n",
       "2107470     2021   869344       1\n",
       "2107471     2021   896862       1"
      ]
     },
     "execution_count": 26,
     "metadata": {},
     "output_type": "execute_result"
    }
   ],
   "source": [
    "df_ranker_train.head()"
   ]
  },
  {
   "cell_type": "code",
   "execution_count": 27,
   "id": "15a4a000",
   "metadata": {},
   "outputs": [],
   "source": [
    "# для нулей мерджим с нашим подготовленным датасетом предсказанных кандидатов\n",
    "df_ranker_train = df_match_candidates.merge(df_ranker_train, on=[USER_COL, ITEM_COL], how='left')\n",
    "\n",
    "# чистим дубликаты\n",
    "df_ranker_train = df_ranker_train.drop_duplicates(subset=[USER_COL, ITEM_COL])\n",
    "\n",
    "# заполняем nan нулями\n",
    "df_ranker_train['target'].fillna(0, inplace= True)"
   ]
  },
  {
   "cell_type": "code",
   "execution_count": 28,
   "id": "8245e34d",
   "metadata": {},
   "outputs": [
    {
     "data": {
      "text/plain": [
       "0.0    0.92713\n",
       "1.0    0.07287\n",
       "Name: target, dtype: float64"
      ]
     },
     "execution_count": 28,
     "metadata": {},
     "output_type": "execute_result"
    }
   ],
   "source": [
    "df_ranker_train['target'].value_counts(normalize=True)"
   ]
  },
  {
   "cell_type": "markdown",
   "id": "dbf2f86f",
   "metadata": {},
   "source": [
    "Задумывалось, как на каждого юзера по 50(N_PREDICT) кандидатов"
   ]
  },
  {
   "cell_type": "code",
   "execution_count": 29,
   "id": "b4c07091",
   "metadata": {},
   "outputs": [
    {
     "data": {
      "text/plain": [
       "(107550, 106972)"
      ]
     },
     "execution_count": 29,
     "metadata": {},
     "output_type": "execute_result"
    }
   ],
   "source": [
    "df_ranker_train['user_id'].nunique() * N_PREDICT, df_ranker_train.shape[0]"
   ]
  },
  {
   "cell_type": "markdown",
   "id": "9d9fe3c9",
   "metadata": {},
   "source": [
    "___"
   ]
  },
  {
   "cell_type": "markdown",
   "id": "1c31d3b3",
   "metadata": {},
   "source": [
    "### Подготовка фичей"
   ]
  },
  {
   "cell_type": "code",
   "execution_count": 30,
   "id": "48c7df12",
   "metadata": {},
   "outputs": [],
   "source": [
    "# намерджим к нашему датасету фичей из user и item features датасетов\n",
    "df_ranker_train = df_ranker_train.merge(item_features, on='item_id', how='left')\n",
    "df_ranker_train = df_ranker_train.merge(user_features, on='user_id', how='left')"
   ]
  },
  {
   "cell_type": "code",
   "execution_count": 31,
   "id": "b074dd4c",
   "metadata": {},
   "outputs": [
    {
     "data": {
      "text/html": [
       "<div>\n",
       "<style scoped>\n",
       "    .dataframe tbody tr th:only-of-type {\n",
       "        vertical-align: middle;\n",
       "    }\n",
       "\n",
       "    .dataframe tbody tr th {\n",
       "        vertical-align: top;\n",
       "    }\n",
       "\n",
       "    .dataframe thead th {\n",
       "        text-align: right;\n",
       "    }\n",
       "</style>\n",
       "<table border=\"1\" class=\"dataframe\">\n",
       "  <thead>\n",
       "    <tr style=\"text-align: right;\">\n",
       "      <th></th>\n",
       "      <th>user_id</th>\n",
       "      <th>item_id</th>\n",
       "      <th>target</th>\n",
       "      <th>manufacturer</th>\n",
       "      <th>department</th>\n",
       "      <th>brand</th>\n",
       "      <th>commodity_desc</th>\n",
       "      <th>sub_commodity_desc</th>\n",
       "      <th>curr_size_of_product</th>\n",
       "      <th>age_desc</th>\n",
       "      <th>marital_status_code</th>\n",
       "      <th>income_desc</th>\n",
       "      <th>homeowner_desc</th>\n",
       "      <th>hh_comp_desc</th>\n",
       "      <th>household_size_desc</th>\n",
       "      <th>kid_category_desc</th>\n",
       "    </tr>\n",
       "  </thead>\n",
       "  <tbody>\n",
       "    <tr>\n",
       "      <th>0</th>\n",
       "      <td>2070</td>\n",
       "      <td>1105426</td>\n",
       "      <td>0.0</td>\n",
       "      <td>69</td>\n",
       "      <td>DELI</td>\n",
       "      <td>Private</td>\n",
       "      <td>SANDWICHES</td>\n",
       "      <td>SANDWICHES - (COLD)</td>\n",
       "      <td></td>\n",
       "      <td>45-54</td>\n",
       "      <td>U</td>\n",
       "      <td>50-74K</td>\n",
       "      <td>Unknown</td>\n",
       "      <td>Unknown</td>\n",
       "      <td>1</td>\n",
       "      <td>None/Unknown</td>\n",
       "    </tr>\n",
       "    <tr>\n",
       "      <th>1</th>\n",
       "      <td>2070</td>\n",
       "      <td>1097350</td>\n",
       "      <td>0.0</td>\n",
       "      <td>2468</td>\n",
       "      <td>GROCERY</td>\n",
       "      <td>National</td>\n",
       "      <td>DOMESTIC WINE</td>\n",
       "      <td>VALUE GLASS WINE</td>\n",
       "      <td>4 LTR</td>\n",
       "      <td>45-54</td>\n",
       "      <td>U</td>\n",
       "      <td>50-74K</td>\n",
       "      <td>Unknown</td>\n",
       "      <td>Unknown</td>\n",
       "      <td>1</td>\n",
       "      <td>None/Unknown</td>\n",
       "    </tr>\n",
       "    <tr>\n",
       "      <th>2</th>\n",
       "      <td>2070</td>\n",
       "      <td>879194</td>\n",
       "      <td>0.0</td>\n",
       "      <td>69</td>\n",
       "      <td>DRUG GM</td>\n",
       "      <td>Private</td>\n",
       "      <td>DIAPERS &amp; DISPOSABLES</td>\n",
       "      <td>BABY DIAPERS</td>\n",
       "      <td>14 CT</td>\n",
       "      <td>45-54</td>\n",
       "      <td>U</td>\n",
       "      <td>50-74K</td>\n",
       "      <td>Unknown</td>\n",
       "      <td>Unknown</td>\n",
       "      <td>1</td>\n",
       "      <td>None/Unknown</td>\n",
       "    </tr>\n",
       "  </tbody>\n",
       "</table>\n",
       "</div>"
      ],
      "text/plain": [
       "   user_id  item_id  target  manufacturer department     brand  \\\n",
       "0     2070  1105426     0.0            69       DELI   Private   \n",
       "1     2070  1097350     0.0          2468    GROCERY  National   \n",
       "2     2070   879194     0.0            69    DRUG GM   Private   \n",
       "\n",
       "          commodity_desc   sub_commodity_desc curr_size_of_product age_desc  \\\n",
       "0             SANDWICHES  SANDWICHES - (COLD)                         45-54   \n",
       "1          DOMESTIC WINE     VALUE GLASS WINE                4 LTR    45-54   \n",
       "2  DIAPERS & DISPOSABLES         BABY DIAPERS                14 CT    45-54   \n",
       "\n",
       "  marital_status_code income_desc homeowner_desc hh_comp_desc  \\\n",
       "0                   U      50-74K        Unknown      Unknown   \n",
       "1                   U      50-74K        Unknown      Unknown   \n",
       "2                   U      50-74K        Unknown      Unknown   \n",
       "\n",
       "  household_size_desc kid_category_desc  \n",
       "0                   1      None/Unknown  \n",
       "1                   1      None/Unknown  \n",
       "2                   1      None/Unknown  "
      ]
     },
     "execution_count": 31,
     "metadata": {},
     "output_type": "execute_result"
    }
   ],
   "source": [
    "df_ranker_train.head(3)"
   ]
  },
  {
   "cell_type": "code",
   "execution_count": 32,
   "id": "f209d9ee",
   "metadata": {},
   "outputs": [],
   "source": [
    "# Для создания фичей смерджим датафрейм с покупками и с данными по товарам\n",
    "data_item_df = pd.merge(data, item_features, on='item_id', how='left')"
   ]
  },
  {
   "cell_type": "markdown",
   "id": "24296707",
   "metadata": {},
   "source": [
    "### Фичи user_id:"
   ]
  },
  {
   "cell_type": "code",
   "execution_count": 33,
   "id": "6b8a61aa",
   "metadata": {},
   "outputs": [],
   "source": [
    "# средний чек каждого юзера по корзинам\n",
    "mean_basket = data_item_df.groupby(['user_id', 'basket_id'])['sales_value'].mean().reset_index().groupby(['user_id'])['sales_value'].mean().reset_index()\n",
    "mean_basket.rename(columns={'sales_value': 'mean_basket'}, inplace=True)\n",
    "\n",
    "# мерджим с фичевым датасетом\n",
    "data_item_df = data_item_df.merge(mean_basket, on='user_id', how='left')"
   ]
  },
  {
   "cell_type": "code",
   "execution_count": 34,
   "id": "ea59c747",
   "metadata": {},
   "outputs": [],
   "source": [
    "# средний чек юзера по каждой из категорий\n",
    "mean_commodity = data_item_df.groupby(['user_id', 'commodity_desc'])['sales_value'].mean().reset_index()\n",
    "mean_commodity.rename(columns={'sales_value': 'mean_commodity'}, inplace=True)\n",
    "\n",
    "# мерджим с фичевым датасетом\n",
    "data_item_df = data_item_df.merge(mean_commodity, on=['user_id', 'commodity_desc'], how='left')"
   ]
  },
  {
   "cell_type": "code",
   "execution_count": 35,
   "id": "3891beb6",
   "metadata": {},
   "outputs": [],
   "source": [
    "# количество покупок на каждую категорию\n",
    "quantity_commodity = data_item_df.groupby(['user_id', 'commodity_desc'])['quantity'].count().reset_index()\n",
    "quantity_commodity.rename(columns={'quantity': 'quantity_commodity'}, inplace=True)\n",
    "\n",
    "# мерджим с фичевым датасетом\n",
    "data_item_df = data_item_df.merge(quantity_commodity, on=['user_id', 'commodity_desc'], how='left')"
   ]
  },
  {
   "cell_type": "code",
   "execution_count": 36,
   "id": "cb89bcad",
   "metadata": {},
   "outputs": [],
   "source": [
    "# Частотность покупок раз/месяц\n",
    "# для начала разобьем наши дни на месяцы (несколько приблизительно, по 30 дней)\n",
    "data_item_df['month'] = data_item_df['day'] // 30"
   ]
  },
  {
   "cell_type": "code",
   "execution_count": 37,
   "id": "def9baf3",
   "metadata": {},
   "outputs": [],
   "source": [
    "month_quantity = data_item_df.groupby(['user_id', 'month'])['quantity'].count().reset_index()\n",
    "month_quantity.rename(columns={'quantity': 'month_quantity'}, inplace=True)\n",
    "\n",
    "# мерджим с фичевым датасетом\n",
    "data_item_df = data_item_df.merge(month_quantity, on=['user_id', 'month'], how='left')"
   ]
  },
  {
   "cell_type": "code",
   "execution_count": 38,
   "id": "b844d1d8",
   "metadata": {},
   "outputs": [],
   "source": [
    "# Доля покупок в выходные\n",
    "\n",
    "# так как датасет от X5(а значит скорее всего собран по России),  \n",
    "# предполагаем, что выходные - это 6 и 7 день недели \n",
    "# Первая неделя длиной 5 дней, значит она началась со среды. Смещение составит 2 и 3 дня \n",
    "# для воскресенья и субботы сооответственно\n",
    "\n",
    "# создадим функцию определения субботы/воскресенья в зависимости от дня/недели\n",
    "weekends = lambda day, week: (day == week * 7 - 2) or (day == week * 7 - 3)\n",
    "\n",
    "data_item_df['weekend_buy'] = data_item_df.apply(lambda x: weekends(x['day'], x['week_no']) * 1, \n",
    "                                                 axis=1)"
   ]
  },
  {
   "cell_type": "code",
   "execution_count": 39,
   "id": "49e3f447",
   "metadata": {},
   "outputs": [],
   "source": [
    "# Долю покупок утром/днем/вечером\n",
    "\n",
    "# с 0 до 6 часов — ночь \n",
    "# с 6 до 12 часов — утро \n",
    "# с 12 до 18 часов — день \n",
    "# с 18 до 24 часов — вечер\n",
    "\n",
    "def day_time(trans_time):\n",
    "    if 0 <= trans_time < 600:\n",
    "        return 'night'\n",
    "    elif 600 <= trans_time < 1200:\n",
    "        return 'morning'\n",
    "    elif 1200 <= trans_time < 1800:\n",
    "        return 'day'\n",
    "    elif 1800 <= trans_time <= 2359:\n",
    "        return 'evening'\n",
    "    else:\n",
    "        return None"
   ]
  },
  {
   "cell_type": "code",
   "execution_count": 40,
   "id": "317e2ec8",
   "metadata": {},
   "outputs": [],
   "source": [
    "data_item_df['day_time'] = data_item_df.apply(lambda x: day_time(x['trans_time']), axis=1)"
   ]
  },
  {
   "cell_type": "markdown",
   "id": "c5b3db3b",
   "metadata": {},
   "source": [
    "### Фичи item_id:"
   ]
  },
  {
   "cell_type": "code",
   "execution_count": 41,
   "id": "3267c27b",
   "metadata": {},
   "outputs": [],
   "source": [
    "# среднее количество покупок товара в неделю\n",
    "item_week_quantity = data_item_df.groupby(['item_id', 'week_no'])['quantity'].count().reset_index().groupby('item_id')['quantity'].mean().reset_index()\n",
    "item_week_quantity.rename(columns={'quantity': 'item_week_quantity'}, inplace=True)\n",
    "\n",
    "# мерджим с фичевым датасетом\n",
    "data_item_df = data_item_df.merge(item_week_quantity, on='item_id', how='left')"
   ]
  },
  {
   "cell_type": "code",
   "execution_count": 42,
   "id": "ae908dea",
   "metadata": {},
   "outputs": [],
   "source": [
    "# Среднее кол-во покупок 1 товара в категории в неделю\n",
    "item_commodity_quantity = data_item_df.groupby(['item_id', 'commodity_desc', 'week_no'])['quantity'].mean().reset_index().groupby(['item_id', 'commodity_desc'])['quantity'].mean().reset_index()\n",
    "item_commodity_quantity.rename(columns={'quantity': 'item_commodity_quantity'}, inplace=True)\n",
    "\n",
    "# мерджим с фичевым датасетом\n",
    "data_item_df = data_item_df.merge(item_commodity_quantity, on=['item_id', 'commodity_desc'], how='left')"
   ]
  },
  {
   "cell_type": "code",
   "execution_count": 43,
   "id": "208b4989",
   "metadata": {},
   "outputs": [],
   "source": [
    "# (Кол-во покупок в неделю) / (Среднее кол-во покупок 1 товара в категории в неделю)\n",
    "\n",
    "data_item_df['week-commodity'] = data_item_df['item_week_quantity'] / data_item_df['item_commodity_quantity']"
   ]
  },
  {
   "cell_type": "code",
   "execution_count": 44,
   "id": "ae262fb3",
   "metadata": {},
   "outputs": [],
   "source": [
    "# цена\n",
    "data_item_df['price'] = data_item_df['sales_value'] / data_item_df['quantity']"
   ]
  },
  {
   "cell_type": "markdown",
   "id": "78d05ca0",
   "metadata": {},
   "source": [
    "### Фичи пары user_id - item_id"
   ]
  },
  {
   "cell_type": "code",
   "execution_count": 56,
   "id": "70d76dee",
   "metadata": {},
   "outputs": [],
   "source": [
    "user_com_week = data_item_df.groupby(['user_id', 'commodity_desc', 'week_no'])['quantity'].count().reset_index()\n",
    "user_com_week.rename(columns={'quantity': 'user_com_week'}, inplace=True)\n",
    "\n",
    "# мерджим с фичевым датасетом\n",
    "data_item_df = data_item_df.merge(user_com_week, on=['user_id', 'commodity_desc', 'week_no'], how='left')"
   ]
  },
  {
   "cell_type": "code",
   "execution_count": 58,
   "id": "e48fe08b",
   "metadata": {},
   "outputs": [],
   "source": [
    "item_com_week = data_item_df.groupby(['commodity_desc', 'week_no'])['quantity'].count().reset_index()\n",
    "item_com_week.rename(columns={'quantity': 'item_com_week'}, inplace=True)\n",
    "\n",
    "# мерджим с фичевым датасетом\n",
    "data_item_df = data_item_df.merge(item_com_week, on=['commodity_desc', 'week_no'], how='left')"
   ]
  },
  {
   "cell_type": "code",
   "execution_count": 60,
   "id": "4f73c392",
   "metadata": {},
   "outputs": [],
   "source": [
    "# (Кол-во покупок юзером конкретной категории в неделю) - \n",
    "# (Среднее кол-во покупок всеми юзерами конкретной категории в неделю)\n",
    "data_item_df['user_item_diff'] = data_item_df['user_com_week'] - data_item_df['item_com_week']"
   ]
  },
  {
   "cell_type": "code",
   "execution_count": 61,
   "id": "27b3f04f",
   "metadata": {},
   "outputs": [],
   "source": [
    "# (Кол-во покупок юзером конкретной категории в неделю) / \n",
    "# (Среднее кол-во покупок всеми юзерами конкретной категории в неделю)\n",
    "data_item_df['user_item_diff'] = data_item_df['user_com_week'] / data_item_df['item_com_week']"
   ]
  },
  {
   "cell_type": "markdown",
   "id": "401dc178",
   "metadata": {},
   "source": [
    "### Присоединим наши созданные фичи к трейновому датасету"
   ]
  },
  {
   "cell_type": "code",
   "execution_count": 72,
   "id": "10f0c537",
   "metadata": {},
   "outputs": [],
   "source": [
    "feat_cols = [\n",
    "    'user_id',\n",
    "    'item_id',\n",
    "    'mean_basket',\n",
    "    'mean_commodity',\n",
    "    'quantity_commodity',\n",
    "    'month',\n",
    "    'month_quantity',\n",
    "    'weekend_buy',\n",
    "    'day_time',\n",
    "    'item_week_quantity',\n",
    "    'item_commodity_quantity',\n",
    "    'week-commodity',\n",
    "    'price',\n",
    "    'user_com_week',\n",
    "    'item_com_week',\n",
    "    'user_item_diff'\n",
    "]"
   ]
  },
  {
   "cell_type": "code",
   "execution_count": 77,
   "id": "97e512be",
   "metadata": {},
   "outputs": [],
   "source": [
    "# df_ranker_train = df_ranker_train.merge(data_item_df[feat_cols], on=['user_id', 'item_id'], how='left')"
   ]
  },
  {
   "cell_type": "markdown",
   "id": "cad2440c",
   "metadata": {},
   "source": [
    "### Тренируем ранжирующую модель"
   ]
  },
  {
   "cell_type": "markdown",
   "id": "7e11cd11",
   "metadata": {},
   "source": [
    "Сначала обучим нашу модель на датасете без сгенерированных фичей"
   ]
  },
  {
   "cell_type": "code",
   "execution_count": 94,
   "id": "93ed80e4",
   "metadata": {},
   "outputs": [],
   "source": [
    "X_train = df_ranker_train.drop('target', axis=1)\n",
    "y_train = df_ranker_train[['target']]"
   ]
  },
  {
   "cell_type": "code",
   "execution_count": 95,
   "id": "3c4ff6f6",
   "metadata": {},
   "outputs": [
    {
     "data": {
      "text/plain": [
       "['manufacturer',\n",
       " 'department',\n",
       " 'brand',\n",
       " 'commodity_desc',\n",
       " 'sub_commodity_desc',\n",
       " 'curr_size_of_product',\n",
       " 'age_desc',\n",
       " 'marital_status_code',\n",
       " 'income_desc',\n",
       " 'homeowner_desc',\n",
       " 'hh_comp_desc',\n",
       " 'household_size_desc',\n",
       " 'kid_category_desc']"
      ]
     },
     "execution_count": 95,
     "metadata": {},
     "output_type": "execute_result"
    }
   ],
   "source": [
    "cat_feats = X_train.columns[2:].tolist()\n",
    "X_train[cat_feats] = X_train[cat_feats].astype('category')\n",
    "\n",
    "cat_feats"
   ]
  },
  {
   "cell_type": "code",
   "execution_count": 96,
   "id": "cda062ab",
   "metadata": {},
   "outputs": [],
   "source": [
    "lgb = LGBMClassifier(objective='binary',\n",
    "                     max_depth=8,\n",
    "                     n_estimators=300,\n",
    "                     learning_rate=0.05,\n",
    "                     categorical_column=cat_feats)\n",
    "\n",
    "lgb.fit(X_train, y_train)\n",
    "\n",
    "train_preds = lgb.predict_proba(X_train)"
   ]
  },
  {
   "cell_type": "code",
   "execution_count": 97,
   "id": "9dbeea7d",
   "metadata": {},
   "outputs": [],
   "source": [
    "df_ranker_predict = df_ranker_train.copy()"
   ]
  },
  {
   "cell_type": "code",
   "execution_count": 98,
   "id": "c6934310",
   "metadata": {},
   "outputs": [],
   "source": [
    "df_ranker_predict['proba_item_purchase'] = train_preds[:,1]"
   ]
  },
  {
   "cell_type": "code",
   "execution_count": 102,
   "id": "481c06c5",
   "metadata": {},
   "outputs": [
    {
     "data": {
      "text/html": [
       "<div>\n",
       "<style scoped>\n",
       "    .dataframe tbody tr th:only-of-type {\n",
       "        vertical-align: middle;\n",
       "    }\n",
       "\n",
       "    .dataframe tbody tr th {\n",
       "        vertical-align: top;\n",
       "    }\n",
       "\n",
       "    .dataframe thead th {\n",
       "        text-align: right;\n",
       "    }\n",
       "</style>\n",
       "<table border=\"1\" class=\"dataframe\">\n",
       "  <thead>\n",
       "    <tr style=\"text-align: right;\">\n",
       "      <th></th>\n",
       "      <th>user_id</th>\n",
       "      <th>item_id</th>\n",
       "      <th>target</th>\n",
       "      <th>manufacturer</th>\n",
       "      <th>department</th>\n",
       "      <th>brand</th>\n",
       "      <th>commodity_desc</th>\n",
       "      <th>sub_commodity_desc</th>\n",
       "      <th>curr_size_of_product</th>\n",
       "      <th>age_desc</th>\n",
       "      <th>marital_status_code</th>\n",
       "      <th>income_desc</th>\n",
       "      <th>homeowner_desc</th>\n",
       "      <th>hh_comp_desc</th>\n",
       "      <th>household_size_desc</th>\n",
       "      <th>kid_category_desc</th>\n",
       "      <th>proba_item_purchase</th>\n",
       "    </tr>\n",
       "  </thead>\n",
       "  <tbody>\n",
       "    <tr>\n",
       "      <th>0</th>\n",
       "      <td>2070</td>\n",
       "      <td>1105426</td>\n",
       "      <td>0.0</td>\n",
       "      <td>69</td>\n",
       "      <td>DELI</td>\n",
       "      <td>Private</td>\n",
       "      <td>SANDWICHES</td>\n",
       "      <td>SANDWICHES - (COLD)</td>\n",
       "      <td></td>\n",
       "      <td>45-54</td>\n",
       "      <td>U</td>\n",
       "      <td>50-74K</td>\n",
       "      <td>Unknown</td>\n",
       "      <td>Unknown</td>\n",
       "      <td>1</td>\n",
       "      <td>None/Unknown</td>\n",
       "      <td>0.036421</td>\n",
       "    </tr>\n",
       "    <tr>\n",
       "      <th>1</th>\n",
       "      <td>2070</td>\n",
       "      <td>1097350</td>\n",
       "      <td>0.0</td>\n",
       "      <td>2468</td>\n",
       "      <td>GROCERY</td>\n",
       "      <td>National</td>\n",
       "      <td>DOMESTIC WINE</td>\n",
       "      <td>VALUE GLASS WINE</td>\n",
       "      <td>4 LTR</td>\n",
       "      <td>45-54</td>\n",
       "      <td>U</td>\n",
       "      <td>50-74K</td>\n",
       "      <td>Unknown</td>\n",
       "      <td>Unknown</td>\n",
       "      <td>1</td>\n",
       "      <td>None/Unknown</td>\n",
       "      <td>0.022789</td>\n",
       "    </tr>\n",
       "  </tbody>\n",
       "</table>\n",
       "</div>"
      ],
      "text/plain": [
       "   user_id  item_id  target  manufacturer department     brand commodity_desc  \\\n",
       "0     2070  1105426     0.0            69       DELI   Private     SANDWICHES   \n",
       "1     2070  1097350     0.0          2468    GROCERY  National  DOMESTIC WINE   \n",
       "\n",
       "    sub_commodity_desc curr_size_of_product age_desc marital_status_code  \\\n",
       "0  SANDWICHES - (COLD)                         45-54                   U   \n",
       "1     VALUE GLASS WINE                4 LTR    45-54                   U   \n",
       "\n",
       "  income_desc homeowner_desc hh_comp_desc household_size_desc  \\\n",
       "0      50-74K        Unknown      Unknown                   1   \n",
       "1      50-74K        Unknown      Unknown                   1   \n",
       "\n",
       "  kid_category_desc  proba_item_purchase  \n",
       "0      None/Unknown             0.036421  \n",
       "1      None/Unknown             0.022789  "
      ]
     },
     "execution_count": 102,
     "metadata": {},
     "output_type": "execute_result"
    }
   ],
   "source": [
    "df_ranker_predict.head(2)"
   ]
  },
  {
   "cell_type": "markdown",
   "id": "038cef0e",
   "metadata": {},
   "source": [
    "### Предскажем на тестовом датасете"
   ]
  },
  {
   "cell_type": "code",
   "execution_count": 100,
   "id": "b6a4b7a8",
   "metadata": {},
   "outputs": [
    {
     "data": {
      "text/html": [
       "<div>\n",
       "<style scoped>\n",
       "    .dataframe tbody tr th:only-of-type {\n",
       "        vertical-align: middle;\n",
       "    }\n",
       "\n",
       "    .dataframe tbody tr th {\n",
       "        vertical-align: top;\n",
       "    }\n",
       "\n",
       "    .dataframe thead th {\n",
       "        text-align: right;\n",
       "    }\n",
       "</style>\n",
       "<table border=\"1\" class=\"dataframe\">\n",
       "  <thead>\n",
       "    <tr style=\"text-align: right;\">\n",
       "      <th></th>\n",
       "      <th>user_id</th>\n",
       "      <th>actual</th>\n",
       "    </tr>\n",
       "  </thead>\n",
       "  <tbody>\n",
       "    <tr>\n",
       "      <th>0</th>\n",
       "      <td>1</td>\n",
       "      <td>[821867, 834484, 856942, 865456, 889248, 90795...</td>\n",
       "    </tr>\n",
       "    <tr>\n",
       "      <th>1</th>\n",
       "      <td>3</td>\n",
       "      <td>[835476, 851057, 872021, 878302, 879948, 90963...</td>\n",
       "    </tr>\n",
       "  </tbody>\n",
       "</table>\n",
       "</div>"
      ],
      "text/plain": [
       "   user_id                                             actual\n",
       "0        1  [821867, 834484, 856942, 865456, 889248, 90795...\n",
       "1        3  [835476, 851057, 872021, 878302, 879948, 90963..."
      ]
     },
     "execution_count": 100,
     "metadata": {},
     "output_type": "execute_result"
    }
   ],
   "source": [
    "result_eval_ranker = data_val_ranker.groupby(USER_COL)[ITEM_COL].unique().reset_index()\n",
    "result_eval_ranker.columns=[USER_COL, ACTUAL_COL]\n",
    "result_eval_ranker.head(2)"
   ]
  },
  {
   "cell_type": "code",
   "execution_count": 103,
   "id": "e8bdce6b",
   "metadata": {},
   "outputs": [
    {
     "name": "stdout",
     "output_type": "stream",
     "text": [
      "CPU times: user 9 s, sys: 8.34 ms, total: 9.01 s\n",
      "Wall time: 9.03 s\n"
     ]
    }
   ],
   "source": [
    "%%time\n",
    "result_eval_ranker['own_rec'] = result_eval_ranker[USER_COL].apply(lambda x: recommender.get_own_recommendations(x, N=N_PREDICT))"
   ]
  },
  {
   "cell_type": "markdown",
   "id": "8d742dbf",
   "metadata": {},
   "source": [
    "Без применения модели ранжирования"
   ]
  },
  {
   "cell_type": "code",
   "execution_count": 105,
   "id": "0e47c63d",
   "metadata": {},
   "outputs": [
    {
     "data": {
      "text/plain": [
       "[('own_rec', 0.1444117647058813)]"
      ]
     },
     "execution_count": 105,
     "metadata": {},
     "output_type": "execute_result"
    }
   ],
   "source": [
    "sorted(calc_precision(result_eval_ranker, TOP_K_PRECISION), key=lambda x: x[1], reverse=True)"
   ]
  },
  {
   "cell_type": "code",
   "execution_count": 106,
   "id": "2eb03ab2",
   "metadata": {},
   "outputs": [],
   "source": [
    "# функция переранжирования в зависимости от предсказанного скора\n",
    "def rerank(user_id):\n",
    "    return df_ranker_predict[df_ranker_predict[USER_COL]==user_id].sort_values('proba_item_purchase', \n",
    "                                                                               ascending=False).head(5)['item_id'].tolist()"
   ]
  },
  {
   "cell_type": "code",
   "execution_count": 107,
   "id": "8fed41ab",
   "metadata": {},
   "outputs": [],
   "source": [
    "result_eval_ranker['reranked_own_rec'] = result_eval_ranker[USER_COL].apply(lambda user_id: rerank(user_id))"
   ]
  },
  {
   "cell_type": "code",
   "execution_count": 108,
   "id": "3be5e616",
   "metadata": {},
   "outputs": [
    {
     "name": "stdout",
     "output_type": "stream",
     "text": [
      "('reranked_own_rec', 0.15331592689294912)\n",
      "('own_rec', 0.1444117647058813)\n"
     ]
    }
   ],
   "source": [
    "print(*sorted(calc_precision(result_eval_ranker, TOP_K_PRECISION), key=lambda x: x[1], reverse=True), sep='\\n')"
   ]
  },
  {
   "cell_type": "markdown",
   "id": "81259d46",
   "metadata": {},
   "source": [
    "### Обучим модель на датасете с новыми фичами"
   ]
  },
  {
   "cell_type": "code",
   "execution_count": 109,
   "id": "3db87b49",
   "metadata": {},
   "outputs": [],
   "source": [
    "df_ranker_train = df_ranker_train.merge(data_item_df[feat_cols], on=['user_id', 'item_id'], how='left')"
   ]
  },
  {
   "cell_type": "code",
   "execution_count": 110,
   "id": "8707fcf3",
   "metadata": {},
   "outputs": [],
   "source": [
    "X_train = df_ranker_train.drop('target', axis=1)\n",
    "y_train = df_ranker_train[['target']]"
   ]
  },
  {
   "cell_type": "code",
   "execution_count": 112,
   "id": "b6c87595",
   "metadata": {},
   "outputs": [],
   "source": [
    "cat_feats = [\n",
    "    'manufacturer',\n",
    "    'department',\n",
    "    'brand',\n",
    "    'commodity_desc',\n",
    "    'sub_commodity_desc',\n",
    "    'curr_size_of_product',\n",
    "    'age_desc',\n",
    "    'marital_status_code',\n",
    "    'income_desc',\n",
    "    'homeowner_desc',\n",
    "    'hh_comp_desc',\n",
    "    'household_size_desc',\n",
    "    'kid_category_desc',\n",
    "    'weekend_buy',\n",
    "    'day_time',\n",
    "]"
   ]
  },
  {
   "cell_type": "code",
   "execution_count": 116,
   "id": "7ec34aeb",
   "metadata": {},
   "outputs": [],
   "source": [
    "X_train[cat_feats] = X_train[cat_feats].astype('category')"
   ]
  },
  {
   "cell_type": "code",
   "execution_count": 117,
   "id": "aeb0af49",
   "metadata": {},
   "outputs": [],
   "source": [
    "lgb = LGBMClassifier(objective='binary',\n",
    "                     max_depth=8,\n",
    "                     n_estimators=300,\n",
    "                     learning_rate=0.05,\n",
    "                     categorical_column=cat_feats)\n",
    "\n",
    "lgb.fit(X_train, y_train)\n",
    "train_preds = lgb.predict_proba(X_train)"
   ]
  },
  {
   "cell_type": "code",
   "execution_count": 118,
   "id": "862fefc4",
   "metadata": {},
   "outputs": [],
   "source": [
    "df_ranker_predict = df_ranker_train.copy()\n",
    "df_ranker_predict['proba_item_purchase'] = train_preds[:,1]"
   ]
  },
  {
   "cell_type": "code",
   "execution_count": 121,
   "id": "135996f8",
   "metadata": {},
   "outputs": [],
   "source": [
    "result_eval_ranker['feat_reranked_own_rec'] = result_eval_ranker[USER_COL].apply(lambda user_id: rerank(user_id))"
   ]
  },
  {
   "cell_type": "code",
   "execution_count": 123,
   "id": "0c07a543",
   "metadata": {},
   "outputs": [
    {
     "name": "stdout",
     "output_type": "stream",
     "text": [
      "('feat_reranked_own_rec', 0.21107049608354758)\n",
      "('reranked_own_rec', 0.15331592689294912)\n",
      "('own_rec', 0.1444117647058813)\n"
     ]
    }
   ],
   "source": [
    "print(*sorted(calc_precision(result_eval_ranker, TOP_K_PRECISION), key=lambda x: x[1], reverse=True), sep='\\n')"
   ]
  },
  {
   "cell_type": "markdown",
   "id": "0e608de1",
   "metadata": {},
   "source": [
    "За счет новых фичей получили неплохую прибавку к скору модели"
   ]
  }
 ],
 "metadata": {
  "kernelspec": {
   "display_name": "Python 3 (ipykernel)",
   "language": "python",
   "name": "python3"
  },
  "language_info": {
   "codemirror_mode": {
    "name": "ipython",
    "version": 3
   },
   "file_extension": ".py",
   "mimetype": "text/x-python",
   "name": "python",
   "nbconvert_exporter": "python",
   "pygments_lexer": "ipython3",
   "version": "3.8.10"
  },
  "varInspector": {
   "cols": {
    "lenName": 16,
    "lenType": 16,
    "lenVar": 40
   },
   "kernels_config": {
    "python": {
     "delete_cmd_postfix": "",
     "delete_cmd_prefix": "del ",
     "library": "var_list.py",
     "varRefreshCmd": "print(var_dic_list())"
    },
    "r": {
     "delete_cmd_postfix": ") ",
     "delete_cmd_prefix": "rm(",
     "library": "var_list.r",
     "varRefreshCmd": "cat(var_dic_list()) "
    }
   },
   "types_to_exclude": [
    "module",
    "function",
    "builtin_function_or_method",
    "instance",
    "_Feature"
   ],
   "window_display": false
  }
 },
 "nbformat": 4,
 "nbformat_minor": 5
}
